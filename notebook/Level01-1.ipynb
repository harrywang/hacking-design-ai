{
 "cells": [
  {
   "cell_type": "markdown",
   "metadata": {},
   "source": [
    "# 随机点名 "
   ]
  },
  {
   "cell_type": "code",
   "execution_count": 16,
   "metadata": {},
   "outputs": [],
   "source": [
    "import random\n",
    "def random_choice_hacker(hackers):\n",
    "    hacker=random.choice(hackers)\n",
    "    return hacker"
   ]
  },
  {
   "cell_type": "code",
   "execution_count": 17,
   "metadata": {},
   "outputs": [],
   "source": [
    "#加密\n",
    "def encode_str(hackers=\"\"):\n",
    "    hackers_a=[]\n",
    "    for hacker in hackers.split(\"\\n\"):\n",
    "        hacker_a=[]\n",
    "        for h in hacker:\n",
    "            a=ord(h)\n",
    "            hacker_a.append(str(a))\n",
    "        hacker_a=\",\".join(hacker_a)\n",
    "        hackers_a.append(hacker_a)\n",
    "    hackers_a=\"\\n\".join(hackers_a)\n",
    "    return hackers_a\n",
    "#解密\n",
    "def dencode_str(hackers_a=\"\"):\n",
    "    hackers=[]\n",
    "    for hacker in hackers_a.split(\"\\n\"):\n",
    "        hacker_c=[]\n",
    "        for h in hacker.split(\",\"):\n",
    "            h=chr(int(h))\n",
    "            hacker_c.append(h)\n",
    "        hacker_c=\"\".join(hacker_c)\n",
    "        hackers.append(hacker_c)\n",
    "    return hackers"
   ]
  },
  {
   "cell_type": "code",
   "execution_count": 18,
   "metadata": {
    "tags": []
   },
   "outputs": [
    {
     "output_type": "stream",
     "name": "stdout",
     "text": "李锐\n"
    }
   ],
   "source": [
    "hackers='''38472,21338\n",
    "26446,24605,21473\n",
    "26446,21338,38597\n",
    "21608,24935,33521\n",
    "35768,36335\n",
    "21494,26062\n",
    "26446,26149,31179\n",
    "37057,26446,33418\n",
    "26045,36828,23665\n",
    "28504,36194\n",
    "34081,38125,20043\n",
    "38470,28147,39118\n",
    "21016,29030,38451\n",
    "26446,33620,26525\n",
    "24352,26032,28982\n",
    "26446,38160\n",
    "32599,21531,20975\n",
    "19969,19968\n",
    "29579,22696\n",
    "29579,23431,26480\n",
    "26446,25104,26753\n",
    "21331,20140,28207\n",
    "29579,23425\n",
    "26446,19982,20961\n",
    "39640,19968,26041\n",
    "38472,28751,40857'''\n",
    "\n",
    "hacker=random_choice_hacker(dencode_str(hackers))\n",
    "print(hacker)"
   ]
  },
  {
   "cell_type": "markdown",
   "metadata": {},
   "source": [
    "# 入门练习\n",
    "## 重点掌握以下概念及代码练习"
   ]
  },
  {
   "cell_type": "code",
   "execution_count": 19,
   "metadata": {},
   "outputs": [
    {
     "output_type": "execute_result",
     "data": {
      "text/plain": "'Python从设计之初就已经是一门面向对象的语言，正因为如此，在Python中创建一个类和对象是很容易的。'"
     },
     "metadata": {},
     "execution_count": 19
    }
   ],
   "source": [
    "\n",
    "#https://www.w3cschool.cn/python3/\n",
    "    \n",
    "# 变量 \n",
    "'''Python中的变量不需要声明。每个变量在使用前都必须赋值，变量赋值以后该变量才会被创建。'''\n",
    "\n",
    "\n",
    "# 条件控制\n",
    "'''Python中if语句的一般形式'''\n",
    "\n",
    "\n",
    "# 循环\n",
    "'''Python中的循环语句 for 和 while'''\n",
    "\n",
    "# 函数\n",
    "'''Python 定义函数使用 def 关键字'''\n",
    "\n",
    "def color():\n",
    "    print(\"----\")\n",
    "    \n",
    "\n",
    "# 类\n",
    "'''Python从设计之初就已经是一门面向对象的语言，正因为如此，在Python中创建一个类和对象是很容易的。'''"
   ]
  },
  {
   "cell_type": "markdown",
   "metadata": {},
   "source": [
    "# 简单练习\n"
   ]
  },
  {
   "cell_type": "code",
   "execution_count": 20,
   "metadata": {
    "tags": []
   },
   "outputs": [
    {
     "output_type": "stream",
     "name": "stdout",
     "text": "配色... test.png\n图像处理... test.png\n布局... test.png\n"
    },
    {
     "output_type": "execute_result",
     "data": {
      "text/plain": "'test.png_122,222,88'"
     },
     "metadata": {},
     "execution_count": 20
    }
   ],
   "source": [
    "def color(input_image):\n",
    "    print(\"配色...\",input_image)\n",
    "    main_color=[122,222,88]\n",
    "    return main_color\n",
    "    \n",
    "def layout(image,color):\n",
    "    print(\"布局...\",image)\n",
    "    poster=image+\"_\"+\",\".join([str(c) for c in color])\n",
    "    return poster\n",
    " \n",
    "def imageProcessing(input_image):\n",
    "    print (\"图像处理...\",input_image)\n",
    "    return input_image\n",
    "    \n",
    "image='test.png'\n",
    "main_color=color(image)\n",
    "image=imageProcessing(image)\n",
    "layout(image,main_color)"
   ]
  },
  {
   "cell_type": "markdown",
   "metadata": {},
   "source": [
    "# Design Patterns\n",
    "\n",
    "Refer to https://refactoring.guru/design-patterns/python\n",
    "\n",
    "## 理解单例模式\n",
    "保证一个类仅有一个实例，并提供一个访问它的全局访问点"
   ]
  },
  {
   "cell_type": "code",
   "execution_count": 21,
   "metadata": {
    "tags": []
   },
   "outputs": [
    {
     "output_type": "stream",
     "name": "stdout",
     "text": "--one --\nTrue\n"
    }
   ],
   "source": [
    "# 类的专有方法：\n",
    "# __init__ : 构造函数，在生成对象时调用\n",
    "# __call__: 函数调用\n",
    "\n",
    "class Singleton(type):\n",
    "    # __init__ : 构造函数，在生成对象时调用\n",
    "    def __init__(self,class_name,class_bases,class_dic):\n",
    "        super(Singleton,self).__init__(class_name,class_bases,class_dic)\n",
    "        self.__instance=None\n",
    "\n",
    "    # __call__: 函数调用\n",
    "    def __call__(self, *args, **kwargs):\n",
    "        if not self.__instance:\n",
    "            obj=object.__new__(self)\n",
    "            self.__init__(obj)\n",
    "            self.__instance=obj\n",
    "        return self.__instance\n",
    "\n",
    "class MyAIDesign(object,metaclass=Singleton):\n",
    "    def __init__(self):\n",
    "        self.name='darksee.ai'\n",
    "        self.version=\"0.1\"\n",
    "        print(\"--one --\")\n",
    "\n",
    "    def match_color(self,input_color=[0,0,0]):\n",
    "        return [255,255,255]\n",
    "\n",
    "    \n",
    "    \n",
    "    \n",
    "ai1=MyAIDesign()\n",
    "ai2=MyAIDesign()\n",
    "\n",
    "print(ai1 is ai2)"
   ]
  },
  {
   "cell_type": "markdown",
   "metadata": {},
   "source": [
    "## 理解观察者模式\n",
    "\n",
    "观察者模式指的是一个对象（Subject）维持一系列依赖于它的对象（Observer），当有关状态发生变更时 Subject 对象则通知一系列 Observer 对象进行更新。\n",
    "\n",
    "在观察者模式中，Subject 对象拥有添加、删除和通知一系列 Observer 的方法等等，而 Observer 对象拥有更新方法等等。"
   ]
  },
  {
   "cell_type": "code",
   "execution_count": 22,
   "metadata": {
    "tags": []
   },
   "outputs": [
    {
     "output_type": "stream",
     "name": "stdout",
     "text": "\nSTEP 1\n更新图像处理规则: \n图像处理...\n\nSTEP 2\n更新配色规则: \n配色...\n\nSTEP 3\n更新布局规则: \n布局...\n"
    }
   ],
   "source": [
    "# 泛化出“观察者”类\n",
    "class Observer:\n",
    "    def update(self):\n",
    "        pass\n",
    " \n",
    " \n",
    "class Color(Observer):\n",
    "    def update(self, action):\n",
    "        print (\"更新配色规则: %s\" % action)\n",
    "        self.run()\n",
    "    \n",
    "    def run(self):\n",
    "        print(\"配色...\")\n",
    " \n",
    " \n",
    "class Layout(Observer):\n",
    "    def update(self, action):\n",
    "        print (\"更新布局规则: %s\" % action)\n",
    "        self.run()\n",
    "    \n",
    "    def run(self):\n",
    "        print(\"布局...\")\n",
    " \n",
    " \n",
    "class ImageProcessing(Observer):\n",
    "    def update(self, action):\n",
    "        print (\"更新图像处理规则: %s\" % action)\n",
    "        self.run()\n",
    "    \n",
    "    def run(self):\n",
    "        print (\"图像处理...\")\n",
    " \n",
    " \n",
    "# Subject 对象拥有添加、删除和通知一系列 Observer 的方法等等\n",
    "class Subject:\n",
    "    observers=[]\n",
    "    action=\"\"\n",
    "    def add_observer(self,observer):\n",
    "        self.observers.append(observer)\n",
    "    def notify_all(self):\n",
    "        for i,obs in enumerate(self.observers):\n",
    "            print(\"\\nSTEP\",i+1)\n",
    "            obs.update(self.action)\n",
    "            \n",
    "\n",
    "class MyAIDesign(Subject):\n",
    "    def set_action(self,action=\"默认\"):\n",
    "        self.action=action\n",
    "    def start_design(self):\n",
    "        return True\n",
    "\n",
    "#配色\n",
    "color=Color()\n",
    "#排版\n",
    "layout=Layout()\n",
    "#图像处理，图像裁切、图像的色彩调整……\n",
    "image_processing=ImageProcessing()\n",
    " \n",
    "\n",
    "darksee_ai=MyAIDesign()\n",
    "darksee_ai.add_observer(image_processing)\n",
    "darksee_ai.add_observer(color)\n",
    "darksee_ai.add_observer(layout)\n",
    "\n",
    "darksee_ai.notify_all()\n"
   ]
  },
  {
   "cell_type": "code",
   "execution_count": 24,
   "metadata": {},
   "outputs": [],
   "source": [
    "class Singleton(type):\n",
    "    def __init__(self,class_name,class_bases,class_dic):\n",
    "        super(Singleton,self).__init__(class_name,class_bases,class_dic)\n",
    "        self.__instance=None\n",
    "\n",
    "    def __call__(self, *args, **kwargs):\n",
    "        if not self.__instance:\n",
    "            obj=object.__new__(self)\n",
    "            self.__init__(obj)\n",
    "            self.__instance=obj\n",
    "        return self.__instance  \n",
    "\n",
    "# 泛化出“观察者”类\n",
    "class Observer:\n",
    "    def update(self):\n",
    "        pass\n",
    " \n",
    " \n",
    "class Color(Observer):\n",
    "    def update(self, action):\n",
    "        print (\"触发配色: %s\" % action)\n",
    "        self.run()\n",
    "    \n",
    "    def run(self):\n",
    "        print(\"配色...\")\n",
    " \n",
    " \n",
    "class Layout(Observer):\n",
    "    def update(self, action):\n",
    "        print (\"触发布局: %s\" % action)\n",
    "        self.run()\n",
    "    \n",
    "    def run(self):\n",
    "        print(\"布局...\")\n",
    "\n",
    "        \n",
    "class ImageProcessing(Observer):\n",
    "    def update(self, action):\n",
    "        print (\"触发图像处理: %s\" % action)\n",
    "        self.run()\n",
    "    \n",
    "    def run(self):\n",
    "        print (\"图像处理...\")\n",
    " \n",
    "\n",
    " \n",
    "# Subject\n",
    "class Subject:\n",
    "    observers=[]\n",
    "    action=\"\"\n",
    "    def add_observer(self,observer):\n",
    "        self.observers.append(observer)\n",
    "    def notify_all(self):\n",
    "        for i,obs in enumerate(self.observers):\n",
    "            print(\"\\nSTEP\",i+1)\n",
    "            obs.update(self.action)\n",
    "            \n",
    "class MyAIDesign(Subject,object,metaclass=Singleton):\n",
    "    def __init__(self):\n",
    "        self.name='darksee.ai'\n",
    "        self.version=\"0.1\"\n",
    "        print(\"初始化：\",self.name,self.version)\n",
    "    \n",
    "    def set_action(self,action):\n",
    "        self.action=action\n",
    "    def start_design(self):\n",
    "        return True\n",
    "\n",
    "    def match_color(self,input_color=[0,0,0]):\n",
    "        return [255,255,255]"
   ]
  },
  {
   "cell_type": "code",
   "execution_count": 25,
   "metadata": {
    "tags": []
   },
   "outputs": [
    {
     "output_type": "stream",
     "name": "stdout",
     "text": "初始化： darksee.ai 0.1\n\nSTEP 1\n触发图像处理: 主色不变\n图像处理...\n\nSTEP 2\n触发配色: 主色不变\n配色...\n\nSTEP 3\n触发布局: 主色不变\n布局...\n"
    }
   ],
   "source": [
    "color=Color()\n",
    "layout=Layout()\n",
    "image_processing=ImageProcessing()\n",
    " \n",
    "darksee_ai=MyAIDesign()\n",
    "darksee_ai.add_observer(image_processing)\n",
    "darksee_ai.add_observer(color)\n",
    "darksee_ai.add_observer(layout)\n",
    "\n",
    "if darksee_ai.start_design():\n",
    "    darksee_ai.set_action(\"主色不变\")\n",
    "    darksee_ai.notify_all()\n"
   ]
  },
  {
   "cell_type": "code",
   "execution_count": 26,
   "metadata": {
    "tags": []
   },
   "outputs": [
    {
     "output_type": "stream",
     "name": "stdout",
     "text": "\nSTEP 1\n触发图像处理: 人物主题\n图像处理...\n\nSTEP 2\n触发配色: 人物主题\n配色...\n\nSTEP 3\n触发布局: 人物主题\n布局...\n"
    }
   ],
   "source": [
    "darksee_ai.set_action(\"人物主题\")\n",
    "darksee_ai.notify_all()"
   ]
  },
  {
   "cell_type": "markdown",
   "metadata": {},
   "source": [
    "For basic OOP in Python, refer to https://realpython.com/python3-object-oriented-programming/"
   ]
  },
  {
   "cell_type": "markdown",
   "metadata": {},
   "source": [
    "# 课堂演示作业: 自动配色 算法"
   ]
  },
  {
   "cell_type": "code",
   "execution_count": 27,
   "metadata": {
    "tags": []
   },
   "outputs": [
    {
     "output_type": "stream",
     "name": "stdout",
     "text": "step 01---提取图片1234的主色调- 运行中-\n用户输入的是 [20, 2, 33]\nstep 02---计算之间调整的幅度- 运行中-\n看到 调整的幅度为： 33\n"
    }
   ],
   "source": [
    "# 根据设定的颜色，改变一张图片的配色\n",
    "\n",
    "# - 输入\n",
    "# 一张图片，用户设定主颜色\n",
    "\n",
    "#step 01 处理图片--》 主色调提取， h ：0-360\n",
    "def extract_main_color_from_image(image=\"图片\"):\n",
    "    print(\"step 01---提取\"+image+\"的主色调- 运行中-\")\n",
    "    h=100\n",
    "    return h\n",
    "\n",
    "# hsv\n",
    "#step 02 用户设定的主颜色 hsv - 图片的主色调 = 差距\n",
    "def color_xxx(user_color=[10,2,33],main_color=0):\n",
    "    print(\"用户输入的是\",user_color)\n",
    "    print(\"step 02---计算之间调整的幅度- 运行中-\")\n",
    "    k=33\n",
    "    return k\n",
    "\n",
    "main_color=extract_main_color_from_image(\"图片1234\")\n",
    "m=color_xxx([20,2,33],main_color)\n",
    "print('看到 调整的幅度为：',m)"
   ]
  }
 ],
 "metadata": {
  "kernelspec": {
   "display_name": "Python 3.7.7 64-bit ('venv': venv)",
   "language": "python",
   "name": "python_defaultSpec_1594411158751"
  },
  "language_info": {
   "codemirror_mode": {
    "name": "ipython",
    "version": 3
   },
   "file_extension": ".py",
   "mimetype": "text/x-python",
   "name": "python",
   "nbconvert_exporter": "python",
   "pygments_lexer": "ipython3",
   "version": "3.7.6"
  }
 },
 "nbformat": 4,
 "nbformat_minor": 4
}