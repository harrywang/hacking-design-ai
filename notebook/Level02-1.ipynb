{
 "cells": [
  {
   "cell_type": "markdown",
   "metadata": {},
   "source": [
    "# 问题转化为向量空间的数学运算"
   ]
  },
  {
   "cell_type": "code",
   "execution_count": 1,
   "metadata": {},
   "outputs": [],
   "source": [
    "import tensorflow_hub as hub\n",
    "import numpy as np\n",
    "\n",
    "# load a pre-trained embedding\n",
    "# Token based text embedding trained on Chinese Google News 100B corpus.\n",
    "# https://tfhub.dev/google/nnlm-zh-dim50/2\n",
    "embed = hub.load(\"https://tfhub.dev/google/nnlm-zh-dim50/2\")"
   ]
  },
  {
   "cell_type": "code",
   "execution_count": 2,
   "metadata": {},
   "outputs": [
    {
     "output_type": "execute_result",
     "data": {
      "text/plain": "<tf.Tensor: shape=(1, 50), dtype=float32, numpy=\narray([[-4.61892923e-03,  3.14871520e-02, -1.37666896e-01,\n        -1.80223718e-01,  3.18889290e-01,  1.59864619e-01,\n        -1.30209308e-02, -6.74860328e-02,  2.50707179e-01,\n         8.81165266e-02,  1.73361838e-01,  3.79935445e-05,\n        -1.86411262e-01, -3.23447175e-02,  1.82978258e-01,\n        -2.81624436e-01, -2.01185316e-01,  2.37850443e-01,\n         4.68596071e-02,  1.18288822e-01, -1.80558890e-01,\n         6.45632371e-02, -8.79279105e-04,  1.21993199e-01,\n        -1.00037001e-01,  1.39083508e-02, -1.18444867e-01,\n         7.55840838e-02, -6.39892668e-02, -9.03432146e-02,\n        -5.55194207e-02,  1.13131203e-01, -4.65420913e-03,\n        -1.44980639e-01,  2.39714831e-01,  9.70328003e-02,\n         7.29109645e-02, -1.52734043e-02, -2.22533606e-02,\n        -2.61341315e-02, -2.73455799e-01, -1.15428448e-01,\n         9.27815959e-02, -5.35708964e-02, -2.38581806e-01,\n        -1.06254369e-01, -1.78294197e-01, -1.30673364e-01,\n         1.47805735e-01,  1.01007186e-01]], dtype=float32)>"
     },
     "metadata": {},
     "execution_count": 2
    }
   ],
   "source": [
    "embed([\"学生\"]) # turn a string into a tensor "
   ]
  },
  {
   "cell_type": "code",
   "execution_count": 3,
   "metadata": {},
   "outputs": [],
   "source": [
    "def cos_sim(vector_a, vector_b):\n",
    "    \"\"\"\n",
    "    计算两个向量之间的余弦相似度\n",
    "    :param vector_a: 向量 a \n",
    "    :param vector_b: 向量 b\n",
    "    :return: sim\n",
    "    \"\"\"\n",
    "    vector_a = np.mat(vector_a)\n",
    "    vector_b = np.mat(vector_b)\n",
    "    \n",
    "    num = float(vector_a * vector_b.T)\n",
    "    denom = np.linalg.norm(vector_a) * np.linalg.norm(vector_b)\n",
    "    \n",
    "    cos = num / denom\n",
    "    sim = 0.5 + 0.5 * cos\n",
    "    \n",
    "    return sim"
   ]
  },
  {
   "cell_type": "code",
   "execution_count": 4,
   "metadata": {
    "tags": []
   },
   "outputs": [],
   "source": [
    "def embeddings_cos_sim(ab):\n",
    "    embeddings = embed(ab)\n",
    "    B=embeddings.numpy()[1]\n",
    "    A=embeddings.numpy()[0]\n",
    "    print(ab, cos_sim(A, B))"
   ]
  },
  {
   "cell_type": "code",
   "execution_count": 5,
   "metadata": {
    "tags": []
   },
   "outputs": [
    {
     "output_type": "stream",
     "name": "stdout",
     "text": "['猫', '狗'] 0.9254584223578479\n"
    }
   ],
   "source": [
    "embeddings_cos_sim([\"猫\",\"狗\"])"
   ]
  },
  {
   "cell_type": "code",
   "execution_count": 6,
   "metadata": {
    "tags": []
   },
   "outputs": [
    {
     "output_type": "stream",
     "name": "stdout",
     "text": "['建筑设计', '空间设计'] 0.702155676317734\n"
    }
   ],
   "source": [
    "embeddings_cos_sim([\"建筑设计\",\"空间设计\"])"
   ]
  },
  {
   "cell_type": "markdown",
   "metadata": {},
   "source": [
    "# 特征工程、机器学习"
   ]
  },
  {
   "cell_type": "code",
   "execution_count": 7,
   "metadata": {
    "tags": []
   },
   "outputs": [
    {
     "output_type": "stream",
     "name": "stdout",
     "text": "['setosa' 'versicolor' 'virginica']\n"
    },
    {
     "output_type": "execute_result",
     "data": {
      "text/plain": "DecisionTreeClassifier(max_depth=3)"
     },
     "metadata": {},
     "execution_count": 7
    }
   ],
   "source": [
    "from sklearn import datasets\n",
    "import matplotlib.pyplot as plt\n",
    "from sklearn import tree\n",
    "\n",
    "# Iris数据集是常用的分类实验数据集，\n",
    "# 由Fisher, 1936收集整理。Iris也称鸢尾花卉数据集，\n",
    "# 是一类多重变量分析的数据集。数据集包含150个数据集，\n",
    "# 分为3类，每类50个数据，每个数据包含4个属性。\n",
    "# 可通过花萼长度，花萼宽度，花瓣长度，花瓣宽度4个属性预测鸢尾花卉属于（Setosa，Versicolour，Virginica）三个种类中的哪一类。\n",
    "\n",
    "#载入数据集\n",
    "iris = datasets.load_iris()\n",
    "#print(iris)\n",
    "iris_data=iris['data']\n",
    "#print(iris_data[0])\n",
    "\n",
    "iris_label=iris['target']\n",
    "#print(iris_label[0])\n",
    "iris_target_name=iris['target_names']\n",
    "print(iris_target_name)\n",
    "\n",
    "X=np.array(iris_data)\n",
    "Y=np.array(iris_label)\n",
    "\n",
    "# print(X[0],iris_target_name[0])\n",
    "\n",
    "# # #训练,决策树\n",
    "model=tree.DecisionTreeClassifier(max_depth=3)\n",
    "# # 开始训练\n",
    "model.fit(X,Y)\n",
    " \n",
    "# #这里预测当前输入的值的所属分类\n",
    "# print('预测类别是',iris_target_name[clf.predict([[5,3,1,0.1]])[0]])"
   ]
  },
  {
   "cell_type": "code",
   "execution_count": 8,
   "metadata": {},
   "outputs": [
    {
     "output_type": "execute_result",
     "data": {
      "text/plain": "1"
     },
     "metadata": {},
     "execution_count": 8
    }
   ],
   "source": [
    "k=[1,2,3,4]\n",
    "k[0]"
   ]
  },
  {
   "cell_type": "code",
   "execution_count": 9,
   "metadata": {
    "tags": []
   },
   "outputs": [
    {
     "output_type": "stream",
     "name": "stdout",
     "text": "预测类别是 setosa\n"
    }
   ],
   "source": [
    "model.predict([ [1,3,0.5,6] ] )[0]\n",
    "print('预测类别是',iris_target_name[0])"
   ]
  },
  {
   "cell_type": "markdown",
   "metadata": {},
   "source": [
    "# 深度学习-表示学习，万物皆向量"
   ]
  },
  {
   "cell_type": "code",
   "execution_count": 10,
   "metadata": {},
   "outputs": [],
   "source": [
    "#欧氏距离和余弦相似度\n",
    "def dist_sim(vector_a, vector_b):\n",
    "    vector_a = np.mat(vector_a)\n",
    "    vector_b = np.mat(vector_b)\n",
    "    dist = np.linalg.norm(vector_a - vector_b)  \n",
    "    sim = 1.0 / (1.0 + dist) #归一化  \n",
    "    return sim"
   ]
  },
  {
   "cell_type": "code",
   "execution_count": 11,
   "metadata": {},
   "outputs": [
    {
     "output_type": "execute_result",
     "data": {
      "text/plain": "0.4142135623730951"
     },
     "metadata": {},
     "execution_count": 11
    }
   ],
   "source": [
    "dist_sim([0,0,0,1],[1,0,0,0])"
   ]
  },
  {
   "cell_type": "markdown",
   "metadata": {},
   "source": [
    "# 机器学习 分类\n",
    "## 找出群体中的KOL\n",
    "### 对比欧式距离与余弦相似度"
   ]
  },
  {
   "cell_type": "code",
   "execution_count": 12,
   "metadata": {},
   "outputs": [],
   "source": [
    "#加载数据\n",
    "import pandas as pd\n",
    "df = pd.read_csv(\"data/students.csv\") "
   ]
  },
  {
   "cell_type": "code",
   "execution_count": 13,
   "metadata": {},
   "outputs": [
    {
     "output_type": "execute_result",
     "data": {
      "text/plain": "  Name                    Email         School        Major grade  \\\n0  王思宏        cplko@eastday.com  华中科技大学，纽约州立大学          建筑学    研三   \n1  赵嘉惠         itmjdlaj@265.com         大连理工大学    设计学（环境方向）    研一   \n2  杨皇惟           clcohq@126.com           南京大学  城市与建筑设计及其理论    研一   \n3  王明均     wvdqjdvinefw@163.net           伦敦大学         服务设计    研一   \n4  杨俊吉  ilamqdkjecbbu@china.com           悉尼大学         交互设计    研一   \n\n                    Interest Interestlevel Code  \n0                    设计与人工智能        Level2   初级  \n1        AI基础编程与空间设计上应用的相关案例        Level1   中极  \n2  设计与AI结合的入门 以及可以应用解决哪些实际问题        Level1   高级  \n3                     AI基础编程        Level1   高级  \n4                  AI交互编程和设计        Level2   初级  ",
      "text/html": "<div>\n<style scoped>\n    .dataframe tbody tr th:only-of-type {\n        vertical-align: middle;\n    }\n\n    .dataframe tbody tr th {\n        vertical-align: top;\n    }\n\n    .dataframe thead th {\n        text-align: right;\n    }\n</style>\n<table border=\"1\" class=\"dataframe\">\n  <thead>\n    <tr style=\"text-align: right;\">\n      <th></th>\n      <th>Name</th>\n      <th>Email</th>\n      <th>School</th>\n      <th>Major</th>\n      <th>grade</th>\n      <th>Interest</th>\n      <th>Interestlevel</th>\n      <th>Code</th>\n    </tr>\n  </thead>\n  <tbody>\n    <tr>\n      <th>0</th>\n      <td>王思宏</td>\n      <td>cplko@eastday.com</td>\n      <td>华中科技大学，纽约州立大学</td>\n      <td>建筑学</td>\n      <td>研三</td>\n      <td>设计与人工智能</td>\n      <td>Level2</td>\n      <td>初级</td>\n    </tr>\n    <tr>\n      <th>1</th>\n      <td>赵嘉惠</td>\n      <td>itmjdlaj@265.com</td>\n      <td>大连理工大学</td>\n      <td>设计学（环境方向）</td>\n      <td>研一</td>\n      <td>AI基础编程与空间设计上应用的相关案例</td>\n      <td>Level1</td>\n      <td>中极</td>\n    </tr>\n    <tr>\n      <th>2</th>\n      <td>杨皇惟</td>\n      <td>clcohq@126.com</td>\n      <td>南京大学</td>\n      <td>城市与建筑设计及其理论</td>\n      <td>研一</td>\n      <td>设计与AI结合的入门 以及可以应用解决哪些实际问题</td>\n      <td>Level1</td>\n      <td>高级</td>\n    </tr>\n    <tr>\n      <th>3</th>\n      <td>王明均</td>\n      <td>wvdqjdvinefw@163.net</td>\n      <td>伦敦大学</td>\n      <td>服务设计</td>\n      <td>研一</td>\n      <td>AI基础编程</td>\n      <td>Level1</td>\n      <td>高级</td>\n    </tr>\n    <tr>\n      <th>4</th>\n      <td>杨俊吉</td>\n      <td>ilamqdkjecbbu@china.com</td>\n      <td>悉尼大学</td>\n      <td>交互设计</td>\n      <td>研一</td>\n      <td>AI交互编程和设计</td>\n      <td>Level2</td>\n      <td>初级</td>\n    </tr>\n  </tbody>\n</table>\n</div>"
     },
     "metadata": {},
     "execution_count": 13
    }
   ],
   "source": [
    "#查看下数据的前几条\n",
    "df.head()"
   ]
  },
  {
   "cell_type": "code",
   "execution_count": 14,
   "metadata": {},
   "outputs": [
    {
     "output_type": "execute_result",
     "data": {
      "text/plain": "['赵嘉惠',\n 'itmjdlaj@265.com',\n '大连理工大学',\n '设计学（环境方向）',\n '研一',\n 'AI基础编程与空间设计上应用的相关案例',\n '中极']"
     },
     "metadata": {},
     "execution_count": 14
    }
   ],
   "source": [
    "student=df.loc[1,['Name','Email','School','Major','grade','Interest','Code']].values.tolist()\n",
    "student"
   ]
  },
  {
   "cell_type": "code",
   "execution_count": 15,
   "metadata": {},
   "outputs": [],
   "source": [
    "#加载 预训练模型\n",
    "import tensorflow_hub as hub\n",
    "import numpy as np\n",
    "embed = hub.load(\"https://tfhub.dev/google/nnlm-zh-dim50/2\")"
   ]
  },
  {
   "cell_type": "code",
   "execution_count": 16,
   "metadata": {},
   "outputs": [
    {
     "output_type": "execute_result",
     "data": {
      "text/plain": "array([-0.0625938 , -0.05726141, -0.13338797, -0.22062095, -0.03406555,\n        0.27990812,  0.2686909 , -0.20444447, -0.05341512,  0.29666495,\n        0.11364096, -0.24460523, -0.2482548 ,  0.02828717, -0.21220523,\n       -0.13740006, -0.02073758, -0.2060058 ,  0.13293643,  0.18738164,\n       -0.19750696, -0.08434743,  0.23032914,  0.10867558, -0.24269278,\n        0.1305842 ,  0.11383242, -0.17520152, -0.14268993, -0.20751497,\n        0.20880245,  0.21575421,  0.16918539,  0.1858416 , -0.08109523,\n        0.2344577 ,  0.30709365,  0.08082086,  0.33298367,  0.13967022,\n       -0.4116232 ,  0.2026273 , -0.18721546, -0.23647994, -0.3127673 ,\n        0.00540362, -0.07225481,  0.03906581, -0.16886352, -0.02956341],\n      dtype=float32)"
     },
     "metadata": {},
     "execution_count": 16
    }
   ],
   "source": [
    "# 测试下\n",
    "embeddings = embed([\"\".join(student)])[0]\n",
    "embeddings.numpy()"
   ]
  },
  {
   "cell_type": "code",
   "execution_count": 17,
   "metadata": {},
   "outputs": [],
   "source": [
    "#把特征转成 稠密向量\n",
    "students=[]\n",
    "for i in range(len(df)):\n",
    "    #print(i)\n",
    "    student=df.loc[i,['Email','School','Major','grade','Interest','Code']].values.tolist()\n",
    "    students.append(embed([\"\".join(student)])[0].numpy())\n",
    "students=np.array(students)"
   ]
  },
  {
   "cell_type": "code",
   "execution_count": 18,
   "metadata": {},
   "outputs": [
    {
     "output_type": "execute_result",
     "data": {
      "text/plain": "array([[ 0.3027733 , -0.0439881 , -0.0076245 , ..., -0.01432977,\n        -0.01676588, -0.0508459 ],\n       [ 0.07041569, -0.01964975, -0.2684328 , ...,  0.08784731,\n        -0.09529525, -0.35060388],\n       [-0.0988938 ,  0.14236964,  0.02276943, ..., -0.08399436,\n        -0.11518561, -0.09161605],\n       ...,\n       [ 0.00873593,  0.07833043, -0.10353636, ..., -0.07584807,\n        -0.08262399, -0.18793842],\n       [ 0.04364892, -0.3225331 , -0.0396436 , ...,  0.26171824,\n         0.19396819, -0.10570058],\n       [ 0.08981864, -0.04354113,  0.15100561, ..., -0.19171815,\n         0.06608194, -0.00543494]], dtype=float32)"
     },
     "metadata": {},
     "execution_count": 18
    }
   ],
   "source": [
    "#每位同学的稠密向量\n",
    "students"
   ]
  },
  {
   "cell_type": "code",
   "execution_count": 19,
   "metadata": {},
   "outputs": [
    {
     "output_type": "execute_result",
     "data": {
      "text/plain": "0.20929274"
     },
     "metadata": {},
     "execution_count": 19
    }
   ],
   "source": [
    "#使用scikit learn的余弦相似度计算方法\n",
    "from sklearn.metrics.pairwise import cosine_similarity\n",
    "sim=cosine_similarity(students)\n",
    "#查看下第一位与第二位同学的相似度\n",
    "sim[0][1]"
   ]
  },
  {
   "cell_type": "code",
   "execution_count": 20,
   "metadata": {
    "tags": []
   },
   "outputs": [
    {
     "output_type": "stream",
     "name": "stdout",
     "text": "杨皇惟 洪伟雨 0.67974126\n王明均 洪伟雨 0.6730009\n杨俊吉 许嘉人 0.639093\n洪伟雨 杨皇惟 0.67974126\n陈韵淳 李雅婷 0.66887295\n许嘉人 杨俊吉 0.639093\n吴慧娟 王明均 0.63936156\n李雅婷 陈韵淳 0.66887295\n吴虹志 张爱火 0.6301522\n黄圣文 陈瑞柏 0.6435807\n陈瑞柏 黄圣文 0.6435807\n何莹隆 王明均 0.6394728\n张爱火 吴虹志 0.6301522\n"
    }
   ],
   "source": [
    "#为每位同学计算与他最相似的一位同学，只取相似度大于0.6的第一位同学\n",
    "count_students={}\n",
    "for i in range(len(students)):\n",
    "    others=[]\n",
    "    for j in range(len(students)):\n",
    "        if i!=j:\n",
    "            others.append({\n",
    "                \"index\":j,\n",
    "                \"score\":sim[i][j]\n",
    "            })\n",
    "    others=sorted(others, key=lambda x:x[\"score\"],reverse=True)\n",
    "    if others[0]['score']>0.6:\n",
    "        print(df.loc[i,'Name'],df.loc[others[0]['index'],'Name'],others[0]['score']) \n",
    "        if not df.loc[others[0]['index'],'Name'] in count_students:\n",
    "            count_students[df.loc[others[0]['index'],'Name']]=0\n",
    "        count_students[df.loc[others[0]['index'],'Name']]+=others[0]['score']"
   ]
  },
  {
   "cell_type": "code",
   "execution_count": 21,
   "metadata": {
    "tags": []
   },
   "outputs": [
    {
     "output_type": "stream",
     "name": "stdout",
     "text": "王思宏\n赵嘉惠\n陈威俊\n胡家豪\n吴慧娟\n虞升贤\n郭玲发\n谢胤一\n林淑娟\n殷文馨\n郭品玮\n洪采木\n吕少祯\n林淑贞\n王雅雯\n李政妃\n何莹隆\n张毓羽\n陈雅辰\n许俊毅\n竺淑娟\n"
    }
   ],
   "source": [
    "# 不太可能是kol的同学（与其他同学相似性较低)\n",
    "for i in range(len(students)):\n",
    "    if not df.loc[i,'Name'] in count_students:\n",
    "        print(df.loc[i,'Name'])"
   ]
  },
  {
   "cell_type": "code",
   "execution_count": 22,
   "metadata": {},
   "outputs": [
    {
     "output_type": "execute_result",
     "data": {
      "text/plain": "[('洪伟雨', 1.3527421355247498),\n ('王明均', 1.278834342956543),\n ('杨皇惟', 0.6797412633895874),\n ('李雅婷', 0.6688729524612427),\n ('陈韵淳', 0.6688729524612427),\n ('陈瑞柏', 0.6435806751251221),\n ('黄圣文', 0.6435806751251221),\n ('许嘉人', 0.6390929818153381),\n ('杨俊吉', 0.6390929818153381),\n ('张爱火', 0.6301522254943848),\n ('吴虹志', 0.6301522254943848)]"
     },
     "metadata": {},
     "execution_count": 22
    }
   ],
   "source": [
    "# 最有可能是kol的同学\n",
    "sorted(count_students.items(), key=lambda x:x[1],reverse=True)"
   ]
  },
  {
   "cell_type": "markdown",
   "metadata": {},
   "source": [
    "# 聚类算法\n",
    "### 聚类班级学生"
   ]
  },
  {
   "cell_type": "code",
   "execution_count": 23,
   "metadata": {},
   "outputs": [
    {
     "output_type": "execute_result",
     "data": {
      "text/plain": "array([1, 0, 1, 0, 0, 1], dtype=int32)"
     },
     "metadata": {},
     "execution_count": 23
    }
   ],
   "source": [
    "#引入库，并测试\n",
    "from sklearn.cluster import KMeans,DBSCAN,Birch\n",
    "import numpy as np\n",
    "\n",
    "X = np.array([[1,2, 2], [1,2, 4], [1,2, 0],[4, 2,2], [4,2, 4], [4,1, 0]])\n",
    "\n",
    "kmeans = KMeans(n_clusters=2, random_state=0).fit(X)\n",
    "\n",
    "kmeans.labels_ #输出原始数据的聚类后的标签值\n"
   ]
  },
  {
   "cell_type": "code",
   "execution_count": 24,
   "metadata": {},
   "outputs": [],
   "source": [
    "#设置数量\n",
    "model = KMeans(n_clusters =2)"
   ]
  },
  {
   "cell_type": "code",
   "execution_count": 25,
   "metadata": {},
   "outputs": [
    {
     "output_type": "execute_result",
     "data": {
      "text/plain": "KMeans(n_clusters=2)"
     },
     "metadata": {},
     "execution_count": 25
    }
   ],
   "source": [
    "#训练\n",
    "model.fit(students)"
   ]
  },
  {
   "cell_type": "code",
   "execution_count": 26,
   "metadata": {
    "tags": []
   },
   "outputs": [
    {
     "output_type": "stream",
     "name": "stdout",
     "text": "赵嘉惠\n杨皇惟\n王明均\n杨俊吉\n胡家豪\n洪伟雨\n陈韵淳\n许嘉人\n吴慧娟\n李雅婷\n虞升贤\n郭玲发\n谢胤一\n林淑娟\n黄圣文\n陈瑞柏\n洪采木\n林淑贞\n王雅雯\n李政妃\n何莹隆\n张毓羽\n张爱火\n陈雅辰\n竺淑娟\n"
    }
   ],
   "source": [
    "for i in range(len(model.labels_)):\n",
    "    if model.labels_[i]==0:\n",
    "        print(df.loc[i,'Name'])\n",
    "    "
   ]
  },
  {
   "cell_type": "code",
   "execution_count": 27,
   "metadata": {
    "tags": []
   },
   "outputs": [
    {
     "output_type": "stream",
     "name": "stdout",
     "text": "[-1 -1 -1 -1 -1 -1 -1 -1 -1 -1 -1 -1 -1 -1 -1 -1 -1 -1 -1 -1 -1 -1 -1 -1\n -1 -1 -1 -1 -1 -1 -1 -1]\n"
    }
   ],
   "source": [
    "#换一种\n",
    "model=DBSCAN(eps=0.11, min_samples=2).fit(students)\n",
    "print(model.labels_)"
   ]
  },
  {
   "cell_type": "code",
   "execution_count": 28,
   "metadata": {
    "tags": []
   },
   "outputs": [
    {
     "output_type": "stream",
     "name": "stdout",
     "text": "[1 0 0 0 0 1 0 0 0 0 0 0 0 0 0 0 1 0 0 1 1 0 1 0 0 0 0 0 1 0 1 0]\n"
    }
   ],
   "source": [
    "#换一种\n",
    "model = Birch(n_clusters=2)\n",
    "model.fit(students)\n",
    "print(model.labels_)"
   ]
  },
  {
   "cell_type": "code",
   "execution_count": 29,
   "metadata": {},
   "outputs": [
    {
     "output_type": "display_data",
     "data": {
      "text/plain": "<Figure size 720x720 with 1 Axes>",
      "image/svg+xml": "<?xml version=\"1.0\" encoding=\"utf-8\" standalone=\"no\"?>\n<!DOCTYPE svg PUBLIC \"-//W3C//DTD SVG 1.1//EN\"\n  \"http://www.w3.org/Graphics/SVG/1.1/DTD/svg11.dtd\">\n<!-- Created with matplotlib (https://matplotlib.org/) -->\n<svg height=\"561.5pt\" version=\"1.1\" viewBox=\"0 0 575.9 561.5\" width=\"575.9pt\" xmlns=\"http://www.w3.org/2000/svg\" xmlns:xlink=\"http://www.w3.org/1999/xlink\">\n <defs>\n  <style type=\"text/css\">\n*{stroke-linecap:butt;stroke-linejoin:round;}\n  </style>\n </defs>\n <g id=\"figure_1\">\n  <g id=\"patch_1\">\n   <path d=\"M 0 561.5 \nL 575.9 561.5 \nL 575.9 0 \nL 0 0 \nz\n\" style=\"fill:none;\"/>\n  </g>\n  <g id=\"axes_1\">\n   <g id=\"patch_2\">\n    <path d=\"M 10.7 550.8 \nL 568.7 550.8 \nL 568.7 7.2 \nL 10.7 7.2 \nz\n\" style=\"fill:#ffffff;\"/>\n   </g>\n   <g id=\"PathCollection_1\">\n    <path clip-path=\"url(#pd56957ad07)\" d=\"M 151.672935 155.998192 \nL 157.672935 149.998192 \nM 151.672935 149.998192 \nL 157.672935 155.998192 \n\" style=\"fill:#fde725;stroke:#fde725;stroke-width:1.5;\"/>\n    <path clip-path=\"url(#pd56957ad07)\" d=\"M 42.991844 179.231527 \nL 48.991844 173.231527 \nM 42.991844 173.231527 \nL 48.991844 179.231527 \n\" style=\"fill:#440154;stroke:#440154;stroke-width:1.5;\"/>\n    <path clip-path=\"url(#pd56957ad07)\" d=\"M 161.695068 309.61694 \nL 167.695068 303.61694 \nM 161.695068 303.61694 \nL 167.695068 309.61694 \n\" style=\"fill:#440154;stroke:#440154;stroke-width:1.5;\"/>\n    <path clip-path=\"url(#pd56957ad07)\" d=\"M 366.142788 400.919824 \nL 372.142788 394.919824 \nM 366.142788 394.919824 \nL 372.142788 400.919824 \n\" style=\"fill:#440154;stroke:#440154;stroke-width:1.5;\"/>\n    <path clip-path=\"url(#pd56957ad07)\" d=\"M 452.919854 350.056511 \nL 458.919854 344.056511 \nM 452.919854 344.056511 \nL 458.919854 350.056511 \n\" style=\"fill:#440154;stroke:#440154;stroke-width:1.5;\"/>\n    <path clip-path=\"url(#pd56957ad07)\" d=\"M 203.828753 385.613196 \nL 209.828753 379.613196 \nM 203.828753 379.613196 \nL 209.828753 385.613196 \n\" style=\"fill:#fde725;stroke:#fde725;stroke-width:1.5;\"/>\n    <path clip-path=\"url(#pd56957ad07)\" d=\"M 114.905359 239.173889 \nL 120.905359 233.173889 \nM 114.905359 233.173889 \nL 120.905359 239.173889 \n\" style=\"fill:#440154;stroke:#440154;stroke-width:1.5;\"/>\n    <path clip-path=\"url(#pd56957ad07)\" d=\"M 417.854799 163.740517 \nL 423.854799 157.740517 \nM 417.854799 157.740517 \nL 423.854799 163.740517 \n\" style=\"fill:#440154;stroke:#440154;stroke-width:1.5;\"/>\n    <path clip-path=\"url(#pd56957ad07)\" d=\"M 99.740071 370.162225 \nL 105.740071 364.162225 \nM 99.740071 364.162225 \nL 105.740071 370.162225 \n\" style=\"fill:#440154;stroke:#440154;stroke-width:1.5;\"/>\n    <path clip-path=\"url(#pd56957ad07)\" d=\"M 334.89926 133.159454 \nL 340.89926 127.159454 \nM 334.89926 127.159454 \nL 340.89926 133.159454 \n\" style=\"fill:#440154;stroke:#440154;stroke-width:1.5;\"/>\n    <path clip-path=\"url(#pd56957ad07)\" d=\"M 363.705152 221.406163 \nL 369.705152 215.406163 \nM 363.705152 215.406163 \nL 369.705152 221.406163 \n\" style=\"fill:#440154;stroke:#440154;stroke-width:1.5;\"/>\n    <path clip-path=\"url(#pd56957ad07)\" d=\"M 282.733442 207.395264 \nL 288.733442 201.395264 \nM 282.733442 201.395264 \nL 288.733442 207.395264 \n\" style=\"fill:#440154;stroke:#440154;stroke-width:1.5;\"/>\n    <path clip-path=\"url(#pd56957ad07)\" d=\"M 234.554255 292.743124 \nL 240.554255 286.743124 \nM 234.554255 286.743124 \nL 240.554255 292.743124 \n\" style=\"fill:#440154;stroke:#440154;stroke-width:1.5;\"/>\n    <path clip-path=\"url(#pd56957ad07)\" d=\"M 89.886398 89.688136 \nL 95.886398 83.688136 \nM 89.886398 83.688136 \nL 95.886398 89.688136 \n\" style=\"fill:#440154;stroke:#440154;stroke-width:1.5;\"/>\n    <path clip-path=\"url(#pd56957ad07)\" d=\"M 276.804881 448.024537 \nL 282.804881 442.024537 \nM 276.804881 442.024537 \nL 282.804881 448.024537 \n\" style=\"fill:#440154;stroke:#440154;stroke-width:1.5;\"/>\n    <path clip-path=\"url(#pd56957ad07)\" d=\"M 468.87045 86.920579 \nL 474.87045 80.920579 \nM 468.87045 80.920579 \nL 474.87045 86.920579 \n\" style=\"fill:#440154;stroke:#440154;stroke-width:1.5;\"/>\n    <path clip-path=\"url(#pd56957ad07)\" d=\"M 287.148149 358.474316 \nL 293.148149 352.474316 \nM 287.148149 352.474316 \nL 293.148149 358.474316 \n\" style=\"fill:#fde725;stroke:#fde725;stroke-width:1.5;\"/>\n    <path clip-path=\"url(#pd56957ad07)\" d=\"M 279.63586 61.894212 \nL 285.63586 55.894212 \nM 279.63586 55.894212 \nL 285.63586 61.894212 \n\" style=\"fill:#440154;stroke:#440154;stroke-width:1.5;\"/>\n    <path clip-path=\"url(#pd56957ad07)\" d=\"M 379.917698 311.159587 \nL 385.917698 305.159587 \nM 379.917698 305.159587 \nL 385.917698 311.159587 \n\" style=\"fill:#440154;stroke:#440154;stroke-width:1.5;\"/>\n    <path clip-path=\"url(#pd56957ad07)\" d=\"M 531.005843 191.417319 \nL 537.005843 185.417319 \nM 531.005843 185.417319 \nL 537.005843 191.417319 \n\" style=\"fill:#fde725;stroke:#fde725;stroke-width:1.5;\"/>\n    <path clip-path=\"url(#pd56957ad07)\" d=\"M 374.486014 34.909091 \nL 380.486014 28.909091 \nM 374.486014 28.909091 \nL 380.486014 34.909091 \n\" style=\"fill:#fde725;stroke:#fde725;stroke-width:1.5;\"/>\n    <path clip-path=\"url(#pd56957ad07)\" d=\"M 540.336364 321.08335 \nL 546.336364 315.08335 \nM 540.336364 315.08335 \nL 546.336364 321.08335 \n\" style=\"fill:#440154;stroke:#440154;stroke-width:1.5;\"/>\n    <path clip-path=\"url(#pd56957ad07)\" d=\"M 33.063636 298.503994 \nL 39.063636 292.503994 \nM 33.063636 292.503994 \nL 39.063636 298.503994 \n\" style=\"fill:#fde725;stroke:#fde725;stroke-width:1.5;\"/>\n    <path clip-path=\"url(#pd56957ad07)\" d=\"M 226.819392 529.090909 \nL 232.819392 523.090909 \nM 226.819392 523.090909 \nL 232.819392 529.090909 \n\" style=\"fill:#440154;stroke:#440154;stroke-width:1.5;\"/>\n    <path clip-path=\"url(#pd56957ad07)\" d=\"M 310.637538 283.487475 \nL 316.637538 277.487475 \nM 310.637538 277.487475 \nL 316.637538 283.487475 \n\" style=\"fill:#440154;stroke:#440154;stroke-width:1.5;\"/>\n    <path clip-path=\"url(#pd56957ad07)\" d=\"M 139.693376 455.603635 \nL 145.693376 449.603635 \nM 139.693376 449.603635 \nL 145.693376 455.603635 \n\" style=\"fill:#440154;stroke:#440154;stroke-width:1.5;\"/>\n    <path clip-path=\"url(#pd56957ad07)\" d=\"M 451.462021 444.828406 \nL 457.462021 438.828406 \nM 451.462021 438.828406 \nL 457.462021 444.828406 \n\" style=\"fill:#440154;stroke:#440154;stroke-width:1.5;\"/>\n    <path clip-path=\"url(#pd56957ad07)\" d=\"M 202.741645 222.467041 \nL 208.741645 216.467041 \nM 202.741645 216.467041 \nL 208.741645 222.467041 \n\" style=\"fill:#440154;stroke:#440154;stroke-width:1.5;\"/>\n    <path clip-path=\"url(#pd56957ad07)\" d=\"M 189.267093 50.071802 \nL 195.267093 44.071802 \nM 189.267093 44.071802 \nL 195.267093 50.071802 \n\" style=\"fill:#fde725;stroke:#fde725;stroke-width:1.5;\"/>\n    <path clip-path=\"url(#pd56957ad07)\" d=\"M 354.516095 505.307888 \nL 360.516095 499.307888 \nM 354.516095 499.307888 \nL 360.516095 505.307888 \n\" style=\"fill:#440154;stroke:#440154;stroke-width:1.5;\"/>\n    <path clip-path=\"url(#pd56957ad07)\" d=\"M 236.464339 138.491346 \nL 242.464339 132.491346 \nM 236.464339 132.491346 \nL 242.464339 138.491346 \n\" style=\"fill:#fde725;stroke:#fde725;stroke-width:1.5;\"/>\n    <path clip-path=\"url(#pd56957ad07)\" d=\"M 450.112803 254.448628 \nL 456.112803 248.448628 \nM 450.112803 248.448628 \nL 456.112803 254.448628 \n\" style=\"fill:#440154;stroke:#440154;stroke-width:1.5;\"/>\n   </g>\n   <g id=\"matplotlib.axis_1\"/>\n   <g id=\"matplotlib.axis_2\"/>\n   <g id=\"patch_3\">\n    <path d=\"M 10.7 550.8 \nL 10.7 7.2 \n\" style=\"fill:none;stroke:#000000;stroke-linecap:square;stroke-linejoin:miter;stroke-width:0.8;\"/>\n   </g>\n   <g id=\"patch_4\">\n    <path d=\"M 568.7 550.8 \nL 568.7 7.2 \n\" style=\"fill:none;stroke:#000000;stroke-linecap:square;stroke-linejoin:miter;stroke-width:0.8;\"/>\n   </g>\n   <g id=\"patch_5\">\n    <path d=\"M 10.7 550.8 \nL 568.7 550.8 \n\" style=\"fill:none;stroke:#000000;stroke-linecap:square;stroke-linejoin:miter;stroke-width:0.8;\"/>\n   </g>\n   <g id=\"patch_6\">\n    <path d=\"M 10.7 7.2 \nL 568.7 7.2 \n\" style=\"fill:none;stroke:#000000;stroke-linecap:square;stroke-linejoin:miter;stroke-width:0.8;\"/>\n   </g>\n  </g>\n </g>\n <defs>\n  <clipPath id=\"pd56957ad07\">\n   <rect height=\"543.6\" width=\"558\" x=\"10.7\" y=\"7.2\"/>\n  </clipPath>\n </defs>\n</svg>\n",
      "image/png": "[encoded data removed]"
     },
     "metadata": {}
    }
   ],
   "source": [
    "# 可视化查看模型学习到的分类\n",
    "from sklearn.manifold import TSNE\n",
    "import matplotlib.pyplot as plt\n",
    "\n",
    "tsne = TSNE(n_components=2)\n",
    "decomposition_data = tsne.fit_transform(students)\n",
    "\n",
    "x = []\n",
    "y = []\n",
    " \n",
    "for i in decomposition_data:\n",
    "    x.append(i[0])\n",
    "    y.append(i[1])\n",
    "    \n",
    "plt.figure(figsize=(10, 10)) \n",
    "ax = plt.axes() \n",
    "plt.scatter(x, y, c=model.labels_, marker=\"x\") \n",
    "plt.xticks(()) \n",
    "plt.yticks(()) \n",
    "plt.show()"
   ]
  },
  {
   "cell_type": "markdown",
   "metadata": {},
   "source": [
    "# 深度学习 hello world\n",
    "### 手写数字分类"
   ]
  },
  {
   "cell_type": "code",
   "execution_count": 30,
   "metadata": {},
   "outputs": [],
   "source": [
    "%load_ext tensorboard\n",
    "\n",
    "#引入相关库\n",
    "import cv2\n",
    "from matplotlib import pyplot as plt\n",
    "import tensorflow as tf\n",
    "import datetime"
   ]
  },
  {
   "cell_type": "code",
   "execution_count": 31,
   "metadata": {},
   "outputs": [],
   "source": [
    "# 下载mnist数据集\n",
    "mnist = tf.keras.datasets.mnist\n",
    "(x_train, y_train), (x_test, y_test) = mnist.load_data()\n",
    "x_train, x_test = x_train / 255.0, x_test / 255.0"
   ]
  },
  {
   "cell_type": "code",
   "execution_count": 32,
   "metadata": {
    "tags": []
   },
   "outputs": [
    {
     "output_type": "stream",
     "name": "stdout",
     "text": "(10000, 28, 28) (10000,)\n"
    }
   ],
   "source": [
    "# 数据集维度\n",
    "print(x_test.shape,y_test.shape)"
   ]
  },
  {
   "cell_type": "code",
   "execution_count": 33,
   "metadata": {},
   "outputs": [
    {
     "output_type": "display_data",
     "data": {
      "text/plain": "<Figure size 432x288 with 1 Axes>",
      "image/svg+xml": "<?xml version=\"1.0\" encoding=\"utf-8\" standalone=\"no\"?>\n<!DOCTYPE svg PUBLIC \"-//W3C//DTD SVG 1.1//EN\"\n  \"http://www.w3.org/Graphics/SVG/1.1/DTD/svg11.dtd\">\n<!-- Created with matplotlib (https://matplotlib.org/) -->\n<svg height=\"248.518125pt\" version=\"1.1\" viewBox=\"0 0 251.565 248.518125\" width=\"251.565pt\" xmlns=\"http://www.w3.org/2000/svg\" xmlns:xlink=\"http://www.w3.org/1999/xlink\">\n <defs>\n  <style type=\"text/css\">\n*{stroke-linecap:butt;stroke-linejoin:round;}\n  </style>\n </defs>\n <g id=\"figure_1\">\n  <g id=\"patch_1\">\n   <path d=\"M 0 248.518125 \nL 251.565 248.518125 \nL 251.565 0 \nL 0 0 \nz\n\" style=\"fill:none;\"/>\n  </g>\n  <g id=\"axes_1\">\n   <g id=\"patch_2\">\n    <path d=\"M 26.925 224.64 \nL 244.365 224.64 \nL 244.365 7.2 \nL 26.925 7.2 \nz\n\" style=\"fill:#ffffff;\"/>\n   </g>\n   <g clip-path=\"url(#p9af3352e09)\">\n    <image height=\"218\" id=\"image0947bb563e\" transform=\"scale(1 -1)translate(0 -218)\" width=\"218\" x=\"26.925\" xlink:href=\"data:image/png;base64,\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\" y=\"-6.64\"/>\n   </g>\n   <g id=\"matplotlib.axis_1\">\n    <g id=\"xtick_1\">\n     <g id=\"line2d_1\">\n      <defs>\n       <path d=\"M 0 0 \nL 0 3.5 \n\" id=\"md86d2a9293\" style=\"stroke:#000000;stroke-width:0.8;\"/>\n      </defs>\n      <g>\n       <use style=\"stroke:#000000;stroke-width:0.8;\" x=\"30.807857\" xlink:href=\"#md86d2a9293\" y=\"224.64\"/>\n      </g>\n     </g>\n     <g id=\"text_1\">\n      <!-- 0 -->\n      <defs>\n       <path d=\"M 31.78125 66.40625 \nQ 24.171875 66.40625 20.328125 58.90625 \nQ 16.5 51.421875 16.5 36.375 \nQ 16.5 21.390625 20.328125 13.890625 \nQ 24.171875 6.390625 31.78125 6.390625 \nQ 39.453125 6.390625 43.28125 13.890625 \nQ 47.125 21.390625 47.125 36.375 \nQ 47.125 51.421875 43.28125 58.90625 \nQ 39.453125 66.40625 31.78125 66.40625 \nz\nM 31.78125 74.21875 \nQ 44.046875 74.21875 50.515625 64.515625 \nQ 56.984375 54.828125 56.984375 36.375 \nQ 56.984375 17.96875 50.515625 8.265625 \nQ 44.046875 -1.421875 31.78125 -1.421875 \nQ 19.53125 -1.421875 13.0625 8.265625 \nQ 6.59375 17.96875 6.59375 36.375 \nQ 6.59375 54.828125 13.0625 64.515625 \nQ 19.53125 74.21875 31.78125 74.21875 \nz\n\" id=\"DejaVuSans-48\"/>\n      </defs>\n      <g transform=\"translate(27.626607 239.238437)scale(0.1 -0.1)\">\n       <use xlink:href=\"#DejaVuSans-48\"/>\n      </g>\n     </g>\n    </g>\n    <g id=\"xtick_2\">\n     <g id=\"line2d_2\">\n      <g>\n       <use style=\"stroke:#000000;stroke-width:0.8;\" x=\"69.636429\" xlink:href=\"#md86d2a9293\" y=\"224.64\"/>\n      </g>\n     </g>\n     <g id=\"text_2\">\n      <!-- 5 -->\n      <defs>\n       <path d=\"M 10.796875 72.90625 \nL 49.515625 72.90625 \nL 49.515625 64.59375 \nL 19.828125 64.59375 \nL 19.828125 46.734375 \nQ 21.96875 47.46875 24.109375 47.828125 \nQ 26.265625 48.1875 28.421875 48.1875 \nQ 40.625 48.1875 47.75 41.5 \nQ 54.890625 34.8125 54.890625 23.390625 \nQ 54.890625 11.625 47.5625 5.09375 \nQ 40.234375 -1.421875 26.90625 -1.421875 \nQ 22.3125 -1.421875 17.546875 -0.640625 \nQ 12.796875 0.140625 7.71875 1.703125 \nL 7.71875 11.625 \nQ 12.109375 9.234375 16.796875 8.0625 \nQ 21.484375 6.890625 26.703125 6.890625 \nQ 35.15625 6.890625 40.078125 11.328125 \nQ 45.015625 15.765625 45.015625 23.390625 \nQ 45.015625 31 40.078125 35.4375 \nQ 35.15625 39.890625 26.703125 39.890625 \nQ 22.75 39.890625 18.8125 39.015625 \nQ 14.890625 38.140625 10.796875 36.28125 \nz\n\" id=\"DejaVuSans-53\"/>\n      </defs>\n      <g transform=\"translate(66.455179 239.238437)scale(0.1 -0.1)\">\n       <use xlink:href=\"#DejaVuSans-53\"/>\n      </g>\n     </g>\n    </g>\n    <g id=\"xtick_3\">\n     <g id=\"line2d_3\">\n      <g>\n       <use style=\"stroke:#000000;stroke-width:0.8;\" x=\"108.465\" xlink:href=\"#md86d2a9293\" y=\"224.64\"/>\n      </g>\n     </g>\n     <g id=\"text_3\">\n      <!-- 10 -->\n      <defs>\n       <path d=\"M 12.40625 8.296875 \nL 28.515625 8.296875 \nL 28.515625 63.921875 \nL 10.984375 60.40625 \nL 10.984375 69.390625 \nL 28.421875 72.90625 \nL 38.28125 72.90625 \nL 38.28125 8.296875 \nL 54.390625 8.296875 \nL 54.390625 0 \nL 12.40625 0 \nz\n\" id=\"DejaVuSans-49\"/>\n      </defs>\n      <g transform=\"translate(102.1025 239.238437)scale(0.1 -0.1)\">\n       <use xlink:href=\"#DejaVuSans-49\"/>\n       <use x=\"63.623047\" xlink:href=\"#DejaVuSans-48\"/>\n      </g>\n     </g>\n    </g>\n    <g id=\"xtick_4\">\n     <g id=\"line2d_4\">\n      <g>\n       <use style=\"stroke:#000000;stroke-width:0.8;\" x=\"147.293571\" xlink:href=\"#md86d2a9293\" y=\"224.64\"/>\n      </g>\n     </g>\n     <g id=\"text_4\">\n      <!-- 15 -->\n      <g transform=\"translate(140.931071 239.238437)scale(0.1 -0.1)\">\n       <use xlink:href=\"#DejaVuSans-49\"/>\n       <use x=\"63.623047\" xlink:href=\"#DejaVuSans-53\"/>\n      </g>\n     </g>\n    </g>\n    <g id=\"xtick_5\">\n     <g id=\"line2d_5\">\n      <g>\n       <use style=\"stroke:#000000;stroke-width:0.8;\" x=\"186.122143\" xlink:href=\"#md86d2a9293\" y=\"224.64\"/>\n      </g>\n     </g>\n     <g id=\"text_5\">\n      <!-- 20 -->\n      <defs>\n       <path d=\"M 19.1875 8.296875 \nL 53.609375 8.296875 \nL 53.609375 0 \nL 7.328125 0 \nL 7.328125 8.296875 \nQ 12.9375 14.109375 22.625 23.890625 \nQ 32.328125 33.6875 34.8125 36.53125 \nQ 39.546875 41.84375 41.421875 45.53125 \nQ 43.3125 49.21875 43.3125 52.78125 \nQ 43.3125 58.59375 39.234375 62.25 \nQ 35.15625 65.921875 28.609375 65.921875 \nQ 23.96875 65.921875 18.8125 64.3125 \nQ 13.671875 62.703125 7.8125 59.421875 \nL 7.8125 69.390625 \nQ 13.765625 71.78125 18.9375 73 \nQ 24.125 74.21875 28.421875 74.21875 \nQ 39.75 74.21875 46.484375 68.546875 \nQ 53.21875 62.890625 53.21875 53.421875 \nQ 53.21875 48.921875 51.53125 44.890625 \nQ 49.859375 40.875 45.40625 35.40625 \nQ 44.1875 33.984375 37.640625 27.21875 \nQ 31.109375 20.453125 19.1875 8.296875 \nz\n\" id=\"DejaVuSans-50\"/>\n      </defs>\n      <g transform=\"translate(179.759643 239.238437)scale(0.1 -0.1)\">\n       <use xlink:href=\"#DejaVuSans-50\"/>\n       <use x=\"63.623047\" xlink:href=\"#DejaVuSans-48\"/>\n      </g>\n     </g>\n    </g>\n    <g id=\"xtick_6\">\n     <g id=\"line2d_6\">\n      <g>\n       <use style=\"stroke:#000000;stroke-width:0.8;\" x=\"224.950714\" xlink:href=\"#md86d2a9293\" y=\"224.64\"/>\n      </g>\n     </g>\n     <g id=\"text_6\">\n      <!-- 25 -->\n      <g transform=\"translate(218.588214 239.238437)scale(0.1 -0.1)\">\n       <use xlink:href=\"#DejaVuSans-50\"/>\n       <use x=\"63.623047\" xlink:href=\"#DejaVuSans-53\"/>\n      </g>\n     </g>\n    </g>\n   </g>\n   <g id=\"matplotlib.axis_2\">\n    <g id=\"ytick_1\">\n     <g id=\"line2d_7\">\n      <defs>\n       <path d=\"M 0 0 \nL -3.5 0 \n\" id=\"m869f1fdec1\" style=\"stroke:#000000;stroke-width:0.8;\"/>\n      </defs>\n      <g>\n       <use style=\"stroke:#000000;stroke-width:0.8;\" x=\"26.925\" xlink:href=\"#m869f1fdec1\" y=\"11.082857\"/>\n      </g>\n     </g>\n     <g id=\"text_7\">\n      <!-- 0 -->\n      <g transform=\"translate(13.5625 14.882076)scale(0.1 -0.1)\">\n       <use xlink:href=\"#DejaVuSans-48\"/>\n      </g>\n     </g>\n    </g>\n    <g id=\"ytick_2\">\n     <g id=\"line2d_8\">\n      <g>\n       <use style=\"stroke:#000000;stroke-width:0.8;\" x=\"26.925\" xlink:href=\"#m869f1fdec1\" y=\"49.911429\"/>\n      </g>\n     </g>\n     <g id=\"text_8\">\n      <!-- 5 -->\n      <g transform=\"translate(13.5625 53.710647)scale(0.1 -0.1)\">\n       <use xlink:href=\"#DejaVuSans-53\"/>\n      </g>\n     </g>\n    </g>\n    <g id=\"ytick_3\">\n     <g id=\"line2d_9\">\n      <g>\n       <use style=\"stroke:#000000;stroke-width:0.8;\" x=\"26.925\" xlink:href=\"#m869f1fdec1\" y=\"88.74\"/>\n      </g>\n     </g>\n     <g id=\"text_9\">\n      <!-- 10 -->\n      <g transform=\"translate(7.2 92.539219)scale(0.1 -0.1)\">\n       <use xlink:href=\"#DejaVuSans-49\"/>\n       <use x=\"63.623047\" xlink:href=\"#DejaVuSans-48\"/>\n      </g>\n     </g>\n    </g>\n    <g id=\"ytick_4\">\n     <g id=\"line2d_10\">\n      <g>\n       <use style=\"stroke:#000000;stroke-width:0.8;\" x=\"26.925\" xlink:href=\"#m869f1fdec1\" y=\"127.568571\"/>\n      </g>\n     </g>\n     <g id=\"text_10\">\n      <!-- 15 -->\n      <g transform=\"translate(7.2 131.36779)scale(0.1 -0.1)\">\n       <use xlink:href=\"#DejaVuSans-49\"/>\n       <use x=\"63.623047\" xlink:href=\"#DejaVuSans-53\"/>\n      </g>\n     </g>\n    </g>\n    <g id=\"ytick_5\">\n     <g id=\"line2d_11\">\n      <g>\n       <use style=\"stroke:#000000;stroke-width:0.8;\" x=\"26.925\" xlink:href=\"#m869f1fdec1\" y=\"166.397143\"/>\n      </g>\n     </g>\n     <g id=\"text_11\">\n      <!-- 20 -->\n      <g transform=\"translate(7.2 170.196362)scale(0.1 -0.1)\">\n       <use xlink:href=\"#DejaVuSans-50\"/>\n       <use x=\"63.623047\" xlink:href=\"#DejaVuSans-48\"/>\n      </g>\n     </g>\n    </g>\n    <g id=\"ytick_6\">\n     <g id=\"line2d_12\">\n      <g>\n       <use style=\"stroke:#000000;stroke-width:0.8;\" x=\"26.925\" xlink:href=\"#m869f1fdec1\" y=\"205.225714\"/>\n      </g>\n     </g>\n     <g id=\"text_12\">\n      <!-- 25 -->\n      <g transform=\"translate(7.2 209.024933)scale(0.1 -0.1)\">\n       <use xlink:href=\"#DejaVuSans-50\"/>\n       <use x=\"63.623047\" xlink:href=\"#DejaVuSans-53\"/>\n      </g>\n     </g>\n    </g>\n   </g>\n   <g id=\"patch_3\">\n    <path d=\"M 26.925 224.64 \nL 26.925 7.2 \n\" style=\"fill:none;stroke:#000000;stroke-linecap:square;stroke-linejoin:miter;stroke-width:0.8;\"/>\n   </g>\n   <g id=\"patch_4\">\n    <path d=\"M 244.365 224.64 \nL 244.365 7.2 \n\" style=\"fill:none;stroke:#000000;stroke-linecap:square;stroke-linejoin:miter;stroke-width:0.8;\"/>\n   </g>\n   <g id=\"patch_5\">\n    <path d=\"M 26.925 224.64 \nL 244.365 224.64 \n\" style=\"fill:none;stroke:#000000;stroke-linecap:square;stroke-linejoin:miter;stroke-width:0.8;\"/>\n   </g>\n   <g id=\"patch_6\">\n    <path d=\"M 26.925 7.2 \nL 244.365 7.2 \n\" style=\"fill:none;stroke:#000000;stroke-linecap:square;stroke-linejoin:miter;stroke-width:0.8;\"/>\n   </g>\n  </g>\n </g>\n <defs>\n  <clipPath id=\"p9af3352e09\">\n   <rect height=\"217.44\" width=\"217.44\" x=\"26.925\" y=\"7.2\"/>\n  </clipPath>\n </defs>\n</svg>\n",
      "image/png": "[encoded data removed]"
     },
     "metadata": {
      "needs_background": "light"
     }
    }
   ],
   "source": [
    "#查看下数据集\n",
    "plt.imshow(x_test[1882])\n",
    "plt.show()"
   ]
  },
  {
   "cell_type": "code",
   "execution_count": 34,
   "metadata": {},
   "outputs": [],
   "source": [
    "#模型定义\n",
    "model = tf.keras.models.Sequential([\n",
    "  tf.keras.layers.Flatten(input_shape=(28, 28)),\n",
    "  tf.keras.layers.Dense(10, activation='relu'),\n",
    "  #tf.keras.layers.Dropout(0.2),\n",
    "  tf.keras.layers.Dense(10, activation='relu'),\n",
    "  tf.keras.layers.Dense(10, activation='softmax')\n",
    "])\n",
    "\n",
    "model.compile(optimizer='adam',\n",
    "              loss='sparse_categorical_crossentropy',\n",
    "              metrics=['accuracy'])"
   ]
  },
  {
   "cell_type": "code",
   "execution_count": 35,
   "metadata": {
    "tags": []
   },
   "outputs": [
    {
     "output_type": "stream",
     "name": "stdout",
     "text": "Epoch 1/5\n1875/1875 [==============================] - 3s 2ms/step - loss: 0.5489 - accuracy: 0.8365\nEpoch 2/5\n1875/1875 [==============================] - 4s 2ms/step - loss: 0.3326 - accuracy: 0.9047\nEpoch 3/5\n1875/1875 [==============================] - 4s 2ms/step - loss: 0.2902 - accuracy: 0.9166\nEpoch 4/5\n1875/1875 [==============================] - 3s 2ms/step - loss: 0.2625 - accuracy: 0.9247\nEpoch 5/5\n1875/1875 [==============================] - 3s 2ms/step - loss: 0.2420 - accuracy: 0.9289\n313/313 - 0s - loss: 0.2414 - accuracy: 0.9300\n"
    },
    {
     "output_type": "execute_result",
     "data": {
      "text/plain": "[0.24144227802753448, 0.9300000071525574]"
     },
     "metadata": {},
     "execution_count": 35
    }
   ],
   "source": [
    "#训练开始\n",
    "model.fit(x_train, y_train, epochs=5)\n",
    "#评估模型\n",
    "model.evaluate(x_test,  y_test, verbose=2)"
   ]
  },
  {
   "cell_type": "markdown",
   "metadata": {},
   "source": [
    "# 颜色分类 v1.0"
   ]
  },
  {
   "cell_type": "markdown",
   "metadata": {},
   "source": [
    "### 使用 Pandas 处理数据"
   ]
  },
  {
   "cell_type": "code",
   "execution_count": 36,
   "metadata": {},
   "outputs": [],
   "source": [
    "#使用 Pandas 创建一个 dataframe\n",
    "import pandas as pd\n",
    "dataframe=pd.read_json(\"data/colorData.json\", orient=\"records\")"
   ]
  },
  {
   "cell_type": "code",
   "execution_count": 37,
   "metadata": {},
   "outputs": [
    {
     "output_type": "execute_result",
     "data": {
      "text/plain": "     b    g       label    r                           uid\n0  155  183   green-ish   81  EjbbUhVExBSZxtpKfcQ5qzT7jDW2\n1   71   22    pink-ish  249  fpqsSD6CvNNFQmRp9sJDdI1QJm32\n2   33  196  orange-ish  254  fpqsSD6CvNNFQmRp9sJDdI1QJm32\n3  237  147    blue-ish  170  fpqsSD6CvNNFQmRp9sJDdI1QJm32\n4  225  159    blue-ish   15  fpqsSD6CvNNFQmRp9sJDdI1QJm32",
      "text/html": "<div>\n<style scoped>\n    .dataframe tbody tr th:only-of-type {\n        vertical-align: middle;\n    }\n\n    .dataframe tbody tr th {\n        vertical-align: top;\n    }\n\n    .dataframe thead th {\n        text-align: right;\n    }\n</style>\n<table border=\"1\" class=\"dataframe\">\n  <thead>\n    <tr style=\"text-align: right;\">\n      <th></th>\n      <th>b</th>\n      <th>g</th>\n      <th>label</th>\n      <th>r</th>\n      <th>uid</th>\n    </tr>\n  </thead>\n  <tbody>\n    <tr>\n      <th>0</th>\n      <td>155</td>\n      <td>183</td>\n      <td>green-ish</td>\n      <td>81</td>\n      <td>EjbbUhVExBSZxtpKfcQ5qzT7jDW2</td>\n    </tr>\n    <tr>\n      <th>1</th>\n      <td>71</td>\n      <td>22</td>\n      <td>pink-ish</td>\n      <td>249</td>\n      <td>fpqsSD6CvNNFQmRp9sJDdI1QJm32</td>\n    </tr>\n    <tr>\n      <th>2</th>\n      <td>33</td>\n      <td>196</td>\n      <td>orange-ish</td>\n      <td>254</td>\n      <td>fpqsSD6CvNNFQmRp9sJDdI1QJm32</td>\n    </tr>\n    <tr>\n      <th>3</th>\n      <td>237</td>\n      <td>147</td>\n      <td>blue-ish</td>\n      <td>170</td>\n      <td>fpqsSD6CvNNFQmRp9sJDdI1QJm32</td>\n    </tr>\n    <tr>\n      <th>4</th>\n      <td>225</td>\n      <td>159</td>\n      <td>blue-ish</td>\n      <td>15</td>\n      <td>fpqsSD6CvNNFQmRp9sJDdI1QJm32</td>\n    </tr>\n  </tbody>\n</table>\n</div>"
     },
     "metadata": {},
     "execution_count": 37
    }
   ],
   "source": [
    "#预览下前面几条数据\n",
    "dataframe.head()"
   ]
  },
  {
   "cell_type": "code",
   "execution_count": 38,
   "metadata": {},
   "outputs": [
    {
     "output_type": "execute_result",
     "data": {
      "text/plain": "b         int64\ng         int64\nlabel    object\nr         int64\nuid      object\ndtype: object"
     },
     "metadata": {},
     "execution_count": 38
    }
   ],
   "source": [
    "#查看下数据类型\n",
    "dataframe.dtypes"
   ]
  },
  {
   "cell_type": "code",
   "execution_count": 39,
   "metadata": {},
   "outputs": [],
   "source": [
    "#label需要转成int\n",
    "dataframe['label'] = pd.Categorical(dataframe['label'])\n",
    "dataframe['label'] = dataframe.label.cat.codes"
   ]
  },
  {
   "cell_type": "code",
   "execution_count": 40,
   "metadata": {},
   "outputs": [],
   "source": [
    "# 获取标签名称\n",
    "#code--label\n",
    "def get_label_name(label=0):\n",
    "    labels=pd.Categorical(['brown-ish','blue-ish', 'green-ish', 'grey-ish', 'orange-ish',\n",
    "           'pink-ish', 'purple-ish', 'red-ish', 'yellow-ish'])\n",
    "    index=labels.codes.tolist().index(label)\n",
    "    return labels.categories.tolist()[index]"
   ]
  },
  {
   "cell_type": "code",
   "execution_count": 41,
   "metadata": {},
   "outputs": [
    {
     "output_type": "execute_result",
     "data": {
      "text/plain": "'grey-ish'"
     },
     "metadata": {},
     "execution_count": 41
    }
   ],
   "source": [
    "# 测试下\n",
    "get_label_name(3)"
   ]
  },
  {
   "cell_type": "code",
   "execution_count": 42,
   "metadata": {},
   "outputs": [
    {
     "output_type": "execute_result",
     "data": {
      "text/plain": "2    1599\n0    1218\n6     823\n5     511\n7     412\n1     319\n8     275\n4     259\n3     227\nName: label, dtype: int64"
     },
     "metadata": {},
     "execution_count": 42
    }
   ],
   "source": [
    "#查看标签分布\n",
    "dataframe.loc[:, 'label'].value_counts()"
   ]
  },
  {
   "cell_type": "code",
   "execution_count": 43,
   "metadata": {},
   "outputs": [],
   "source": [
    "#准备训练数据\n",
    "dataframe = dataframe[['r','g','b','label']]"
   ]
  },
  {
   "cell_type": "markdown",
   "metadata": {},
   "source": [
    "### 制作数据集"
   ]
  },
  {
   "cell_type": "code",
   "execution_count": 44,
   "metadata": {
    "tags": []
   },
   "outputs": [
    {
     "output_type": "stream",
     "name": "stdout",
     "text": "4570 train examples\n508 validation examples\n565 test examples\n"
    }
   ],
   "source": [
    "#分割成训练集、验证集、测试集\n",
    "from sklearn.model_selection import train_test_split\n",
    "\n",
    "df=dataframe.copy()\n",
    "\n",
    "train, test = train_test_split(df, test_size=0.1)\n",
    "train, val = train_test_split(train, test_size=0.1)\n",
    "print(len(train), 'train examples')\n",
    "print(len(val), 'validation examples')\n",
    "print(len(test), 'test examples')"
   ]
  },
  {
   "cell_type": "code",
   "execution_count": 45,
   "metadata": {},
   "outputs": [],
   "source": [
    "# 一种从 Pandas Dataframe 创建 tf.data 数据集的实用程序方法（utility method）\n",
    "def df_to_dataset(dataframe, shuffle=True, batch_size=32):\n",
    "    x = dataframe.copy()\n",
    "    x=x.astype('float64')\n",
    "    y = x.pop('label')\n",
    "    ds = tf.data.Dataset.from_tensor_slices((x.values, y.values))\n",
    "    if shuffle:\n",
    "        ds = ds.shuffle(buffer_size=len(dataframe))\n",
    "    ds = ds.batch(batch_size)\n",
    "    return ds"
   ]
  },
  {
   "cell_type": "code",
   "execution_count": 46,
   "metadata": {},
   "outputs": [],
   "source": [
    "import datetime\n",
    "import tensorflow as tf\n",
    "#参数\n",
    "\n",
    "#Batch Size：一次训练所选取的样本数。\n",
    "BATCH_SIZE=64\n",
    "#失活率(Dropout Rate) 每层中丢弃的神经元占整层神经元的比率\n",
    "DROPOUT_RATE=0.1045\n",
    "#轮次，整个输入数据的单次前向和反向传递\n",
    "EPOCHS=100\n",
    "\n",
    "log_dir = \"logs/fit/DROPOUT_RATE_\" + str(DROPOUT_RATE)+\"_\"+datetime.datetime.now().strftime(\"%Y%m%d-%H%M%S\")\n",
    "tensorboard_callback = tf.keras.callbacks.TensorBoard(log_dir=log_dir, histogram_freq=1)"
   ]
  },
  {
   "cell_type": "code",
   "execution_count": 47,
   "metadata": {},
   "outputs": [],
   "source": [
    "train_ds=df_to_dataset(train,batch_size=BATCH_SIZE)\n",
    "val_ds=df_to_dataset(val,batch_size=BATCH_SIZE)\n",
    "test_ds=df_to_dataset(test,batch_size=BATCH_SIZE)"
   ]
  },
  {
   "cell_type": "code",
   "execution_count": 48,
   "metadata": {
    "tags": []
   },
   "outputs": [
    {
     "output_type": "stream",
     "name": "stdout",
     "text": "(<tf.Tensor: shape=(64, 3), dtype=float64, numpy=\narray([[116., 220.,  87.],\n       [135., 196., 245.],\n       [190., 217., 202.],\n       [101., 184., 201.],\n       [ 62., 242., 158.],\n       [173., 210., 123.],\n       [128., 101.,  82.],\n       [247., 213., 222.],\n       [229.,  46., 206.],\n       [ 55., 233.,  92.],\n       [ 22., 213., 236.],\n       [ 77., 107., 132.],\n       [243., 230., 169.],\n       [ 92., 155., 243.],\n       [236., 140.,  78.],\n       [ 61., 138.,  25.],\n       [244., 148.,   8.],\n       [101.,  24.,  40.],\n       [222.,  64., 133.],\n       [132., 249., 139.],\n       [  6., 128.,  38.],\n       [228.,  86., 200.],\n       [ 22., 171., 107.],\n       [ 34.,   2.,  35.],\n       [ 84.,  78.,   8.],\n       [140., 192.,  73.],\n       [ 59., 101.,  17.],\n       [ 85., 135.,  72.],\n       [ 31., 100.,  22.],\n       [ 79., 134., 144.],\n       [216.,  87.,  97.],\n       [117., 183., 177.],\n       [236., 117.,  14.],\n       [127., 119., 172.],\n       [ 11., 136.,  52.],\n       [ 57., 120.,  83.],\n       [197.,   5.,  64.],\n       [ 89., 141.,   0.],\n       [ 21., 141., 208.],\n       [167., 222.,  74.],\n       [133.,  50.,  49.],\n       [ 73., 232.,  28.],\n       [252., 141., 119.],\n       [139., 154.,  16.],\n       [202.,  39.,  79.],\n       [222., 150.,  44.],\n       [123.,  66.,  65.],\n       [ 85., 173., 127.],\n       [ 64., 179., 214.],\n       [ 85., 137.,  96.],\n       [210.,  86.,  92.],\n       [228., 200., 101.],\n       [ 65.,  21.,  69.],\n       [152.,  21., 160.],\n       [114., 157., 123.],\n       [201., 142., 129.],\n       [ 53.,  27.,  13.],\n       [210.,   2.,  46.],\n       [ 86.,   9.,  41.],\n       [ 52.,  99.,  13.],\n       [154.,  17., 110.],\n       [164.,  17.,  15.],\n       [155., 246., 255.],\n       [150., 116.,  30.]])>, <tf.Tensor: shape=(64,), dtype=float64, numpy=\narray([2., 0., 3., 7., 2., 2., 1., 5., 5., 2., 0., 0., 8., 0., 4., 2., 4.,\n       7., 5., 2., 2., 5., 2., 6., 8., 2., 2., 2., 2., 3., 7., 2., 4., 6.,\n       2., 2., 7., 2., 0., 2., 1., 2., 5., 2., 7., 4., 1., 2., 0., 2., 7.,\n       8., 6., 6., 2., 5., 3., 7., 1., 2., 5., 7., 0., 1.])>)\n"
    }
   ],
   "source": [
    "for f in train_ds.take(1):\n",
    "    print(f)"
   ]
  },
  {
   "cell_type": "markdown",
   "metadata": {},
   "source": [
    "### 模型"
   ]
  },
  {
   "cell_type": "code",
   "execution_count": 49,
   "metadata": {
    "scrolled": true,
    "tags": []
   },
   "outputs": [
    {
     "output_type": "stream",
     "name": "stdout",
     "text": "Model: \"sequential_1\"\n_________________________________________________________________\nLayer (type)                 Output Shape              Param #   \n=================================================================\ndense_3 (Dense)              (None, 12)                48        \n_________________________________________________________________\ndense_4 (Dense)              (None, 48)                624       \n_________________________________________________________________\ndropout (Dropout)            (None, 48)                0         \n_________________________________________________________________\ndense_5 (Dense)              (None, 128)               6272      \n_________________________________________________________________\ndropout_1 (Dropout)          (None, 128)               0         \n_________________________________________________________________\ndense_6 (Dense)              (None, 48)                6192      \n_________________________________________________________________\ndense_7 (Dense)              (None, 9)                 441       \n=================================================================\nTotal params: 13,577\nTrainable params: 13,577\nNon-trainable params: 0\n_________________________________________________________________\n"
    }
   ],
   "source": [
    "model = tf.keras.Sequential([\n",
    "  tf.keras.layers.Dense(12, input_shape=(3,),activation='softplus'),\n",
    "  tf.keras.layers.Dense(48, activation='relu'),\n",
    "  tf.keras.layers.Dropout(DROPOUT_RATE),\n",
    "  tf.keras.layers.Dense(128, activation='relu'),\n",
    "  tf.keras.layers.Dropout(DROPOUT_RATE),\n",
    "  tf.keras.layers.Dense(48, activation='relu'),\n",
    "  tf.keras.layers.Dense(9, activation='softmax')\n",
    "])\n",
    "\n",
    "#optimizer=tf.keras.optimizers.SGD(learning_rate=0.25)\n",
    "\n",
    "model.compile(optimizer='adam',\n",
    "              loss='sparse_categorical_crossentropy',\n",
    "              metrics=['accuracy'])\n",
    "\n",
    "model.summary()\n"
   ]
  },
  {
   "cell_type": "code",
   "execution_count": 50,
   "metadata": {
    "tags": []
   },
   "outputs": [
    {
     "output_type": "stream",
     "name": "stdout",
     "text": "Epoch 1/100\n72/72 [==============================] - 0s 5ms/step - loss: 4.3103 - accuracy: 0.3849 - val_loss: 1.1970 - val_accuracy: 0.6378\nEpoch 2/100\n72/72 [==============================] - 0s 3ms/step - loss: 1.5750 - accuracy: 0.5586 - val_loss: 1.0471 - val_accuracy: 0.6890\nEpoch 3/100\n72/72 [==============================] - 0s 3ms/step - loss: 1.2899 - accuracy: 0.6026 - val_loss: 0.9732 - val_accuracy: 0.6890\nEpoch 4/100\n72/72 [==============================] - 0s 3ms/step - loss: 1.1602 - accuracy: 0.6359 - val_loss: 0.9346 - val_accuracy: 0.7106\nEpoch 5/100\n72/72 [==============================] - 0s 3ms/step - loss: 1.0781 - accuracy: 0.6617 - val_loss: 0.8775 - val_accuracy: 0.7559\nEpoch 6/100\n72/72 [==============================] - 0s 2ms/step - loss: 1.0096 - accuracy: 0.6764 - val_loss: 0.8351 - val_accuracy: 0.7421\nEpoch 7/100\n72/72 [==============================] - 0s 3ms/step - loss: 0.9587 - accuracy: 0.6908 - val_loss: 0.8214 - val_accuracy: 0.7598\nEpoch 8/100\n72/72 [==============================] - 0s 3ms/step - loss: 0.9201 - accuracy: 0.6969 - val_loss: 0.7901 - val_accuracy: 0.7736\nEpoch 9/100\n72/72 [==============================] - 0s 4ms/step - loss: 0.8931 - accuracy: 0.7066 - val_loss: 0.7882 - val_accuracy: 0.7638\nEpoch 10/100\n72/72 [==============================] - 0s 6ms/step - loss: 0.8771 - accuracy: 0.7048 - val_loss: 0.7869 - val_accuracy: 0.7559\nEpoch 11/100\n72/72 [==============================] - 0s 3ms/step - loss: 0.8684 - accuracy: 0.7144 - val_loss: 0.7736 - val_accuracy: 0.7500\nEpoch 12/100\n72/72 [==============================] - 0s 4ms/step - loss: 0.8496 - accuracy: 0.7164 - val_loss: 0.7575 - val_accuracy: 0.7736\nEpoch 13/100\n72/72 [==============================] - 0s 2ms/step - loss: 0.8411 - accuracy: 0.7276 - val_loss: 0.7526 - val_accuracy: 0.7835\nEpoch 14/100\n72/72 [==============================] - 0s 3ms/step - loss: 0.8303 - accuracy: 0.7217 - val_loss: 0.7414 - val_accuracy: 0.7795\nEpoch 15/100\n72/72 [==============================] - 0s 3ms/step - loss: 0.8269 - accuracy: 0.7265 - val_loss: 0.7615 - val_accuracy: 0.7598\nEpoch 16/100\n72/72 [==============================] - 0s 3ms/step - loss: 0.8184 - accuracy: 0.7330 - val_loss: 0.7576 - val_accuracy: 0.7598\nEpoch 17/100\n72/72 [==============================] - 0s 3ms/step - loss: 0.8131 - accuracy: 0.7328 - val_loss: 0.7638 - val_accuracy: 0.7657\nEpoch 18/100\n72/72 [==============================] - 0s 4ms/step - loss: 0.8096 - accuracy: 0.7400 - val_loss: 0.7409 - val_accuracy: 0.7815\nEpoch 19/100\n72/72 [==============================] - 0s 4ms/step - loss: 0.7985 - accuracy: 0.7418 - val_loss: 0.7599 - val_accuracy: 0.7697\nEpoch 20/100\n72/72 [==============================] - 0s 3ms/step - loss: 0.7968 - accuracy: 0.7361 - val_loss: 0.7428 - val_accuracy: 0.7815\nEpoch 21/100\n72/72 [==============================] - 0s 5ms/step - loss: 0.7996 - accuracy: 0.7330 - val_loss: 0.7601 - val_accuracy: 0.7795\nEpoch 22/100\n72/72 [==============================] - 0s 6ms/step - loss: 0.7958 - accuracy: 0.7416 - val_loss: 0.7272 - val_accuracy: 0.7776\nEpoch 23/100\n72/72 [==============================] - 0s 4ms/step - loss: 0.7866 - accuracy: 0.7394 - val_loss: 0.7511 - val_accuracy: 0.7795\nEpoch 24/100\n72/72 [==============================] - 0s 2ms/step - loss: 0.7984 - accuracy: 0.7352 - val_loss: 0.7415 - val_accuracy: 0.7913\nEpoch 25/100\n72/72 [==============================] - 0s 2ms/step - loss: 0.7819 - accuracy: 0.7449 - val_loss: 0.7534 - val_accuracy: 0.7736\nEpoch 26/100\n72/72 [==============================] - 0s 2ms/step - loss: 0.7898 - accuracy: 0.7409 - val_loss: 0.7494 - val_accuracy: 0.7815\nEpoch 27/100\n72/72 [==============================] - 0s 2ms/step - loss: 0.7769 - accuracy: 0.7392 - val_loss: 0.7443 - val_accuracy: 0.7953\nEpoch 28/100\n72/72 [==============================] - 0s 4ms/step - loss: 0.7847 - accuracy: 0.7451 - val_loss: 0.7441 - val_accuracy: 0.7756\nEpoch 29/100\n72/72 [==============================] - 0s 4ms/step - loss: 0.7677 - accuracy: 0.7464 - val_loss: 0.7288 - val_accuracy: 0.7795\nEpoch 30/100\n72/72 [==============================] - 0s 4ms/step - loss: 0.7745 - accuracy: 0.7420 - val_loss: 0.7314 - val_accuracy: 0.7795\nEpoch 31/100\n72/72 [==============================] - 0s 4ms/step - loss: 0.7695 - accuracy: 0.7477 - val_loss: 0.7411 - val_accuracy: 0.7815\nEpoch 32/100\n72/72 [==============================] - 0s 4ms/step - loss: 0.7568 - accuracy: 0.7516 - val_loss: 0.7222 - val_accuracy: 0.7894\nEpoch 33/100\n72/72 [==============================] - 0s 3ms/step - loss: 0.7686 - accuracy: 0.7455 - val_loss: 0.7225 - val_accuracy: 0.7795\nEpoch 34/100\n72/72 [==============================] - 0s 4ms/step - loss: 0.7645 - accuracy: 0.7477 - val_loss: 0.7284 - val_accuracy: 0.7953\nEpoch 35/100\n72/72 [==============================] - 0s 4ms/step - loss: 0.7673 - accuracy: 0.7486 - val_loss: 0.7185 - val_accuracy: 0.7933\nEpoch 36/100\n72/72 [==============================] - 0s 5ms/step - loss: 0.7559 - accuracy: 0.7560 - val_loss: 0.7069 - val_accuracy: 0.7854\nEpoch 37/100\n72/72 [==============================] - 0s 4ms/step - loss: 0.7574 - accuracy: 0.7466 - val_loss: 0.7079 - val_accuracy: 0.7894\nEpoch 38/100\n72/72 [==============================] - 0s 4ms/step - loss: 0.7470 - accuracy: 0.7619 - val_loss: 0.7082 - val_accuracy: 0.7972\nEpoch 39/100\n72/72 [==============================] - 0s 5ms/step - loss: 0.7563 - accuracy: 0.7578 - val_loss: 0.7128 - val_accuracy: 0.8071\nEpoch 40/100\n72/72 [==============================] - 0s 3ms/step - loss: 0.7462 - accuracy: 0.7621 - val_loss: 0.7182 - val_accuracy: 0.8051\nEpoch 41/100\n72/72 [==============================] - 0s 3ms/step - loss: 0.7441 - accuracy: 0.7608 - val_loss: 0.7276 - val_accuracy: 0.7795\nEpoch 42/100\n72/72 [==============================] - 0s 5ms/step - loss: 0.7371 - accuracy: 0.7562 - val_loss: 0.7214 - val_accuracy: 0.7953\nEpoch 43/100\n72/72 [==============================] - 0s 4ms/step - loss: 0.7367 - accuracy: 0.7573 - val_loss: 0.6988 - val_accuracy: 0.8091\nEpoch 44/100\n72/72 [==============================] - 0s 3ms/step - loss: 0.7369 - accuracy: 0.7595 - val_loss: 0.7156 - val_accuracy: 0.7913\nEpoch 45/100\n72/72 [==============================] - 0s 3ms/step - loss: 0.7448 - accuracy: 0.7562 - val_loss: 0.7005 - val_accuracy: 0.8150\nEpoch 46/100\n72/72 [==============================] - 0s 2ms/step - loss: 0.7469 - accuracy: 0.7492 - val_loss: 0.7153 - val_accuracy: 0.7933\nEpoch 47/100\n72/72 [==============================] - 0s 3ms/step - loss: 0.7392 - accuracy: 0.7663 - val_loss: 0.7129 - val_accuracy: 0.7953\nEpoch 48/100\n72/72 [==============================] - 0s 3ms/step - loss: 0.7364 - accuracy: 0.7580 - val_loss: 0.7140 - val_accuracy: 0.7933\nEpoch 49/100\n72/72 [==============================] - 0s 3ms/step - loss: 0.7309 - accuracy: 0.7558 - val_loss: 0.7070 - val_accuracy: 0.7953\nEpoch 50/100\n72/72 [==============================] - 0s 3ms/step - loss: 0.7305 - accuracy: 0.7617 - val_loss: 0.7073 - val_accuracy: 0.7972\nEpoch 51/100\n72/72 [==============================] - 0s 3ms/step - loss: 0.7189 - accuracy: 0.7654 - val_loss: 0.6917 - val_accuracy: 0.8130\nEpoch 52/100\n72/72 [==============================] - 0s 3ms/step - loss: 0.7220 - accuracy: 0.7648 - val_loss: 0.7053 - val_accuracy: 0.7953\nEpoch 53/100\n72/72 [==============================] - 0s 3ms/step - loss: 0.7290 - accuracy: 0.7637 - val_loss: 0.7157 - val_accuracy: 0.7972\nEpoch 54/100\n72/72 [==============================] - 0s 3ms/step - loss: 0.7209 - accuracy: 0.7624 - val_loss: 0.7039 - val_accuracy: 0.8071\nEpoch 55/100\n72/72 [==============================] - 0s 5ms/step - loss: 0.7149 - accuracy: 0.7707 - val_loss: 0.7140 - val_accuracy: 0.7972\nEpoch 56/100\n72/72 [==============================] - 0s 3ms/step - loss: 0.7240 - accuracy: 0.7630 - val_loss: 0.6982 - val_accuracy: 0.8031\nEpoch 57/100\n72/72 [==============================] - 0s 3ms/step - loss: 0.7095 - accuracy: 0.7648 - val_loss: 0.6959 - val_accuracy: 0.8130\nEpoch 58/100\n72/72 [==============================] - 0s 3ms/step - loss: 0.7205 - accuracy: 0.7661 - val_loss: 0.6977 - val_accuracy: 0.8051\nEpoch 59/100\n72/72 [==============================] - 0s 3ms/step - loss: 0.7104 - accuracy: 0.7674 - val_loss: 0.6930 - val_accuracy: 0.8307\nEpoch 60/100\n72/72 [==============================] - 0s 2ms/step - loss: 0.7116 - accuracy: 0.7667 - val_loss: 0.6947 - val_accuracy: 0.8209\nEpoch 61/100\n72/72 [==============================] - 0s 3ms/step - loss: 0.7252 - accuracy: 0.7613 - val_loss: 0.6866 - val_accuracy: 0.8091\nEpoch 62/100\n72/72 [==============================] - 0s 3ms/step - loss: 0.7087 - accuracy: 0.7691 - val_loss: 0.6789 - val_accuracy: 0.8150\nEpoch 63/100\n72/72 [==============================] - 0s 2ms/step - loss: 0.7056 - accuracy: 0.7716 - val_loss: 0.6889 - val_accuracy: 0.8268\nEpoch 64/100\n72/72 [==============================] - 0s 4ms/step - loss: 0.7118 - accuracy: 0.7705 - val_loss: 0.6811 - val_accuracy: 0.8130\nEpoch 65/100\n72/72 [==============================] - 0s 4ms/step - loss: 0.7041 - accuracy: 0.7676 - val_loss: 0.6965 - val_accuracy: 0.8209\nEpoch 66/100\n72/72 [==============================] - 0s 3ms/step - loss: 0.7024 - accuracy: 0.7751 - val_loss: 0.7167 - val_accuracy: 0.7972\nEpoch 67/100\n72/72 [==============================] - 0s 3ms/step - loss: 0.7030 - accuracy: 0.7713 - val_loss: 0.6976 - val_accuracy: 0.8189\nEpoch 68/100\n72/72 [==============================] - 0s 6ms/step - loss: 0.6998 - accuracy: 0.7786 - val_loss: 0.6962 - val_accuracy: 0.8228\nEpoch 69/100\n72/72 [==============================] - 0s 5ms/step - loss: 0.6967 - accuracy: 0.7735 - val_loss: 0.6789 - val_accuracy: 0.8130\nEpoch 70/100\n72/72 [==============================] - 0s 7ms/step - loss: 0.6974 - accuracy: 0.7691 - val_loss: 0.6837 - val_accuracy: 0.7894\nEpoch 71/100\n72/72 [==============================] - 0s 5ms/step - loss: 0.6991 - accuracy: 0.7724 - val_loss: 0.6816 - val_accuracy: 0.8248\nEpoch 72/100\n72/72 [==============================] - 0s 4ms/step - loss: 0.6963 - accuracy: 0.7683 - val_loss: 0.6787 - val_accuracy: 0.7992\nEpoch 73/100\n72/72 [==============================] - 0s 7ms/step - loss: 0.6926 - accuracy: 0.7731 - val_loss: 0.6626 - val_accuracy: 0.8110\nEpoch 74/100\n72/72 [==============================] - 0s 7ms/step - loss: 0.7011 - accuracy: 0.7709 - val_loss: 0.6889 - val_accuracy: 0.8169\nEpoch 75/100\n72/72 [==============================] - 0s 6ms/step - loss: 0.6918 - accuracy: 0.7753 - val_loss: 0.6720 - val_accuracy: 0.7992\nEpoch 76/100\n72/72 [==============================] - 0s 6ms/step - loss: 0.6898 - accuracy: 0.7761 - val_loss: 0.6875 - val_accuracy: 0.8150\nEpoch 77/100\n72/72 [==============================] - 1s 10ms/step - loss: 0.6879 - accuracy: 0.7768 - val_loss: 0.6757 - val_accuracy: 0.8130\nEpoch 78/100\n72/72 [==============================] - 0s 7ms/step - loss: 0.6839 - accuracy: 0.7783 - val_loss: 0.6626 - val_accuracy: 0.8130\nEpoch 79/100\n72/72 [==============================] - 0s 7ms/step - loss: 0.6857 - accuracy: 0.7759 - val_loss: 0.6952 - val_accuracy: 0.8051\nEpoch 80/100\n72/72 [==============================] - 1s 10ms/step - loss: 0.6847 - accuracy: 0.7764 - val_loss: 0.6742 - val_accuracy: 0.8110\nEpoch 81/100\n72/72 [==============================] - 0s 3ms/step - loss: 0.6856 - accuracy: 0.7729 - val_loss: 0.6759 - val_accuracy: 0.8071\nEpoch 82/100\n72/72 [==============================] - 0s 3ms/step - loss: 0.6851 - accuracy: 0.7757 - val_loss: 0.6881 - val_accuracy: 0.8169\nEpoch 83/100\n72/72 [==============================] - 0s 3ms/step - loss: 0.6804 - accuracy: 0.7803 - val_loss: 0.6726 - val_accuracy: 0.8150\nEpoch 84/100\n72/72 [==============================] - 0s 3ms/step - loss: 0.6750 - accuracy: 0.7788 - val_loss: 0.6524 - val_accuracy: 0.8091\nEpoch 85/100\n72/72 [==============================] - 1s 7ms/step - loss: 0.6787 - accuracy: 0.7740 - val_loss: 0.6802 - val_accuracy: 0.8091\nEpoch 86/100\n72/72 [==============================] - 1s 7ms/step - loss: 0.6704 - accuracy: 0.7814 - val_loss: 0.6675 - val_accuracy: 0.8110\nEpoch 87/100\n72/72 [==============================] - 1s 10ms/step - loss: 0.6764 - accuracy: 0.7794 - val_loss: 0.6552 - val_accuracy: 0.8248\nEpoch 88/100\n72/72 [==============================] - 1s 8ms/step - loss: 0.6788 - accuracy: 0.7731 - val_loss: 0.6592 - val_accuracy: 0.8169\nEpoch 89/100\n72/72 [==============================] - 1s 9ms/step - loss: 0.6713 - accuracy: 0.7700 - val_loss: 0.6608 - val_accuracy: 0.8071\nEpoch 90/100\n72/72 [==============================] - 0s 6ms/step - loss: 0.6777 - accuracy: 0.7775 - val_loss: 0.6567 - val_accuracy: 0.8209\nEpoch 91/100\n72/72 [==============================] - 1s 7ms/step - loss: 0.6757 - accuracy: 0.7801 - val_loss: 0.6747 - val_accuracy: 0.8091\nEpoch 92/100\n72/72 [==============================] - 0s 5ms/step - loss: 0.6762 - accuracy: 0.7759 - val_loss: 0.6576 - val_accuracy: 0.8228\nEpoch 93/100\n72/72 [==============================] - 0s 7ms/step - loss: 0.6714 - accuracy: 0.7825 - val_loss: 0.6984 - val_accuracy: 0.7894\nEpoch 94/100\n72/72 [==============================] - 0s 5ms/step - loss: 0.6774 - accuracy: 0.7775 - val_loss: 0.6587 - val_accuracy: 0.8150\nEpoch 95/100\n72/72 [==============================] - 0s 5ms/step - loss: 0.6726 - accuracy: 0.7790 - val_loss: 0.6609 - val_accuracy: 0.8071\nEpoch 96/100\n72/72 [==============================] - 0s 5ms/step - loss: 0.6720 - accuracy: 0.7781 - val_loss: 0.6888 - val_accuracy: 0.8110\nEpoch 97/100\n72/72 [==============================] - 0s 6ms/step - loss: 0.6743 - accuracy: 0.7801 - val_loss: 0.6692 - val_accuracy: 0.8189\nEpoch 98/100\n72/72 [==============================] - 0s 6ms/step - loss: 0.6671 - accuracy: 0.7814 - val_loss: 0.6780 - val_accuracy: 0.8110\nEpoch 99/100\n72/72 [==============================] - 1s 7ms/step - loss: 0.6718 - accuracy: 0.7759 - val_loss: 0.6560 - val_accuracy: 0.8130\nEpoch 100/100\n72/72 [==============================] - 0s 5ms/step - loss: 0.6628 - accuracy: 0.7836 - val_loss: 0.6868 - val_accuracy: 0.8031\n"
    },
    {
     "output_type": "execute_result",
     "data": {
      "text/plain": "<tensorflow.python.keras.callbacks.History at 0x7fc8eafeccd0>"
     },
     "metadata": {},
     "execution_count": 50
    }
   ],
   "source": [
    "model.fit(train_ds,\n",
    "          validation_data=val_ds,\n",
    "          epochs=EPOCHS,\n",
    "             callbacks=[tensorboard_callback])"
   ]
  },
  {
   "cell_type": "code",
   "execution_count": 51,
   "metadata": {
    "tags": []
   },
   "outputs": [
    {
     "data": {
      "text/plain": "Reusing TensorBoard on port 6006 (pid 34514), started 2 days, 20:13:20 ago. (Use '!kill 34514' to kill it.)"
     },
     "metadata": {},
     "output_type": "display_data"
    }
   ],
   "source": [
    "%tensorboard --logdir logs/fit"
   ]
  },
  {
   "cell_type": "code",
   "execution_count": 52,
   "metadata": {
    "scrolled": true,
    "tags": []
   },
   "outputs": [
    {
     "output_type": "stream",
     "name": "stdout",
     "text": "9/9 - 0s - loss: 0.7069 - accuracy: 0.8000\n\nTest accuracy: 0.800000011920929\n"
    }
   ],
   "source": [
    "test_loss, test_acc = model.evaluate(test_ds, verbose=2)\n",
    "print('\\nTest accuracy:', test_acc)"
   ]
  },
  {
   "cell_type": "markdown",
   "metadata": {},
   "source": [
    "### 预测"
   ]
  },
  {
   "cell_type": "code",
   "execution_count": 53,
   "metadata": {},
   "outputs": [],
   "source": [
    "probability_model = tf.keras.Sequential([model, \n",
    "                                         tf.keras.layers.Softmax()])"
   ]
  },
  {
   "cell_type": "code",
   "execution_count": 54,
   "metadata": {},
   "outputs": [],
   "source": [
    "import numpy as np\n",
    "predictions = probability_model.predict(np.array([[110,2,25]]))"
   ]
  },
  {
   "cell_type": "code",
   "execution_count": 55,
   "metadata": {},
   "outputs": [
    {
     "output_type": "execute_result",
     "data": {
      "text/plain": "array([0.0966014 , 0.10816292, 0.09872166, 0.09708886, 0.09684855,\n       0.09756961, 0.09945045, 0.20781082, 0.09774566], dtype=float32)"
     },
     "metadata": {},
     "execution_count": 55
    }
   ],
   "source": [
    "predictions[0]"
   ]
  },
  {
   "cell_type": "code",
   "execution_count": 56,
   "metadata": {},
   "outputs": [
    {
     "output_type": "execute_result",
     "data": {
      "text/plain": "'red-ish'"
     },
     "metadata": {},
     "execution_count": 56
    }
   ],
   "source": [
    "get_label_name(np.argmax(predictions[0]))"
   ]
  },
  {
   "cell_type": "markdown",
   "metadata": {},
   "source": [
    "# RGB转HSV\n",
    "### rgb->hsv"
   ]
  },
  {
   "cell_type": "code",
   "execution_count": 57,
   "metadata": {},
   "outputs": [],
   "source": [
    "import cv2\n",
    "# opencv\n",
    "import numpy as np\n",
    "from matplotlib import pyplot as plt"
   ]
  },
  {
   "cell_type": "code",
   "execution_count": 58,
   "metadata": {
    "tags": []
   },
   "outputs": [
    {
     "output_type": "stream",
     "name": "stdout",
     "text": "(28, 32)\n(28, 32, 3)\n"
    },
    {
     "output_type": "display_data",
     "data": {
      "text/plain": "<Figure size 432x288 with 1 Axes>",
      "image/svg+xml": "<?xml version=\"1.0\" encoding=\"utf-8\" standalone=\"no\"?>\n<!DOCTYPE svg PUBLIC \"-//W3C//DTD SVG 1.1//EN\"\n  \"http://www.w3.org/Graphics/SVG/1.1/DTD/svg11.dtd\">\n<!-- Created with matplotlib (https://matplotlib.org/) -->\n<svg height=\"248.518125pt\" version=\"1.1\" viewBox=\"0 0 282.627857 248.518125\" width=\"282.627857pt\" xmlns=\"http://www.w3.org/2000/svg\" xmlns:xlink=\"http://www.w3.org/1999/xlink\">\n <defs>\n  <style type=\"text/css\">\n*{stroke-linecap:butt;stroke-linejoin:round;}\n  </style>\n </defs>\n <g id=\"figure_1\">\n  <g id=\"patch_1\">\n   <path d=\"M 0 248.518125 \nL 282.627857 248.518125 \nL 282.627857 0 \nL 0 0 \nz\n\" style=\"fill:none;\"/>\n  </g>\n  <g id=\"axes_1\">\n   <g id=\"patch_2\">\n    <path d=\"M 26.925 224.64 \nL 275.427857 224.64 \nL 275.427857 7.2 \nL 26.925 7.2 \nz\n\" style=\"fill:#ffffff;\"/>\n   </g>\n   <g clip-path=\"url(#pf1cdc6ddcc)\">\n    <image height=\"218\" id=\"imagedd48db371c\" transform=\"scale(1 -1)translate(0 -218)\" width=\"249\" x=\"26.925\" xlink:href=\"data:image/png;base64,\niVBORw0KGgoAAAANSUhEUgAAAPkAAADaCAYAAABkd+QIAAAABHNCSVQICAgIfAhkiAAAApFJREFUeJzt00ENACAQwLAD/55BBSFZWgX7bM3MGSBr/w4A3jI5xJkc4kwOcSaHOJNDnMkhzuQQZ3KIMznEmRziTA5xJoc4k0OcySHO5BBncogzOcSZHOJMDnEmhziTQ5zJIc7kEGdyiDM5xJkc4kwOcSaHOJNDnMkhzuQQZ3KIMznEmRziTA5xJoc4k0OcySHO5BBncogzOcSZHOJMDnEmhziTQ5zJIc7kEGdyiDM5xJkc4kwOcSaHOJNDnMkhzuQQZ3KIMznEmRziTA5xJoc4k0OcySHO5BBncogzOcSZHOJMDnEmhziTQ5zJIc7kEGdyiDM5xJkc4kwOcSaHOJNDnMkhzuQQZ3KIMznEmRziTA5xJoc4k0OcySHO5BBncogzOcSZHOJMDnEmhziTQ5zJIc7kEGdyiDM5xJkc4kwOcSaHOJNDnMkhzuQQZ3KIMznEmRziTA5xJoc4k0OcySHO5BBncogzOcSZHOJMDnEmhziTQ5zJIc7kEGdyiDM5xJkc4kwOcSaHOJNDnMkhzuQQZ3KIMznEmRziTA5xJoc4k0OcySHO5BBncogzOcSZHOJMDnEmhziTQ5zJIc7kEGdyiDM5xJkc4kwOcSaHOJNDnMkhzuQQZ3KIMznEmRziTA5xJoc4k0OcySHO5BBncogzOcSZHOJMDnEmhziTQ5zJIc7kEGdyiDM5xJkc4kwOcSaHOJNDnMkhzuQQZ3KIMznEmRziTA5xJoc4k0OcySHO5BBncogzOcSZHOJMDnEmhziTQ5zJIc7kEGdyiDM5xJkc4kwOcSaHOJNDnMkhzuQQZ3KIMznEmRziTA5xJoc4k0OcySHO5BBncogzOcSZHOJMDnEmhziTQ5zJIc7kEGdyiLtV1AKz6wavawAAAABJRU5ErkJggg==\" y=\"-6.64\"/>\n   </g>\n   <g id=\"matplotlib.axis_1\">\n    <g id=\"xtick_1\">\n     <g id=\"line2d_1\">\n      <defs>\n       <path d=\"M 0 0 \nL 0 3.5 \n\" id=\"mdbb240c706\" style=\"stroke:#000000;stroke-width:0.8;\"/>\n      </defs>\n      <g>\n       <use style=\"stroke:#000000;stroke-width:0.8;\" x=\"30.807857\" xlink:href=\"#mdbb240c706\" y=\"224.64\"/>\n      </g>\n     </g>\n     <g id=\"text_1\">\n      <!-- 0 -->\n      <defs>\n       <path d=\"M 31.78125 66.40625 \nQ 24.171875 66.40625 20.328125 58.90625 \nQ 16.5 51.421875 16.5 36.375 \nQ 16.5 21.390625 20.328125 13.890625 \nQ 24.171875 6.390625 31.78125 6.390625 \nQ 39.453125 6.390625 43.28125 13.890625 \nQ 47.125 21.390625 47.125 36.375 \nQ 47.125 51.421875 43.28125 58.90625 \nQ 39.453125 66.40625 31.78125 66.40625 \nz\nM 31.78125 74.21875 \nQ 44.046875 74.21875 50.515625 64.515625 \nQ 56.984375 54.828125 56.984375 36.375 \nQ 56.984375 17.96875 50.515625 8.265625 \nQ 44.046875 -1.421875 31.78125 -1.421875 \nQ 19.53125 -1.421875 13.0625 8.265625 \nQ 6.59375 17.96875 6.59375 36.375 \nQ 6.59375 54.828125 13.0625 64.515625 \nQ 19.53125 74.21875 31.78125 74.21875 \nz\n\" id=\"DejaVuSans-48\"/>\n      </defs>\n      <g transform=\"translate(27.626607 239.238437)scale(0.1 -0.1)\">\n       <use xlink:href=\"#DejaVuSans-48\"/>\n      </g>\n     </g>\n    </g>\n    <g id=\"xtick_2\">\n     <g id=\"line2d_2\">\n      <g>\n       <use style=\"stroke:#000000;stroke-width:0.8;\" x=\"69.636429\" xlink:href=\"#mdbb240c706\" y=\"224.64\"/>\n      </g>\n     </g>\n     <g id=\"text_2\">\n      <!-- 5 -->\n      <defs>\n       <path d=\"M 10.796875 72.90625 \nL 49.515625 72.90625 \nL 49.515625 64.59375 \nL 19.828125 64.59375 \nL 19.828125 46.734375 \nQ 21.96875 47.46875 24.109375 47.828125 \nQ 26.265625 48.1875 28.421875 48.1875 \nQ 40.625 48.1875 47.75 41.5 \nQ 54.890625 34.8125 54.890625 23.390625 \nQ 54.890625 11.625 47.5625 5.09375 \nQ 40.234375 -1.421875 26.90625 -1.421875 \nQ 22.3125 -1.421875 17.546875 -0.640625 \nQ 12.796875 0.140625 7.71875 1.703125 \nL 7.71875 11.625 \nQ 12.109375 9.234375 16.796875 8.0625 \nQ 21.484375 6.890625 26.703125 6.890625 \nQ 35.15625 6.890625 40.078125 11.328125 \nQ 45.015625 15.765625 45.015625 23.390625 \nQ 45.015625 31 40.078125 35.4375 \nQ 35.15625 39.890625 26.703125 39.890625 \nQ 22.75 39.890625 18.8125 39.015625 \nQ 14.890625 38.140625 10.796875 36.28125 \nz\n\" id=\"DejaVuSans-53\"/>\n      </defs>\n      <g transform=\"translate(66.455179 239.238437)scale(0.1 -0.1)\">\n       <use xlink:href=\"#DejaVuSans-53\"/>\n      </g>\n     </g>\n    </g>\n    <g id=\"xtick_3\">\n     <g id=\"line2d_3\">\n      <g>\n       <use style=\"stroke:#000000;stroke-width:0.8;\" x=\"108.465\" xlink:href=\"#mdbb240c706\" y=\"224.64\"/>\n      </g>\n     </g>\n     <g id=\"text_3\">\n      <!-- 10 -->\n      <defs>\n       <path d=\"M 12.40625 8.296875 \nL 28.515625 8.296875 \nL 28.515625 63.921875 \nL 10.984375 60.40625 \nL 10.984375 69.390625 \nL 28.421875 72.90625 \nL 38.28125 72.90625 \nL 38.28125 8.296875 \nL 54.390625 8.296875 \nL 54.390625 0 \nL 12.40625 0 \nz\n\" id=\"DejaVuSans-49\"/>\n      </defs>\n      <g transform=\"translate(102.1025 239.238437)scale(0.1 -0.1)\">\n       <use xlink:href=\"#DejaVuSans-49\"/>\n       <use x=\"63.623047\" xlink:href=\"#DejaVuSans-48\"/>\n      </g>\n     </g>\n    </g>\n    <g id=\"xtick_4\">\n     <g id=\"line2d_4\">\n      <g>\n       <use style=\"stroke:#000000;stroke-width:0.8;\" x=\"147.293571\" xlink:href=\"#mdbb240c706\" y=\"224.64\"/>\n      </g>\n     </g>\n     <g id=\"text_4\">\n      <!-- 15 -->\n      <g transform=\"translate(140.931071 239.238437)scale(0.1 -0.1)\">\n       <use xlink:href=\"#DejaVuSans-49\"/>\n       <use x=\"63.623047\" xlink:href=\"#DejaVuSans-53\"/>\n      </g>\n     </g>\n    </g>\n    <g id=\"xtick_5\">\n     <g id=\"line2d_5\">\n      <g>\n       <use style=\"stroke:#000000;stroke-width:0.8;\" x=\"186.122143\" xlink:href=\"#mdbb240c706\" y=\"224.64\"/>\n      </g>\n     </g>\n     <g id=\"text_5\">\n      <!-- 20 -->\n      <defs>\n       <path d=\"M 19.1875 8.296875 \nL 53.609375 8.296875 \nL 53.609375 0 \nL 7.328125 0 \nL 7.328125 8.296875 \nQ 12.9375 14.109375 22.625 23.890625 \nQ 32.328125 33.6875 34.8125 36.53125 \nQ 39.546875 41.84375 41.421875 45.53125 \nQ 43.3125 49.21875 43.3125 52.78125 \nQ 43.3125 58.59375 39.234375 62.25 \nQ 35.15625 65.921875 28.609375 65.921875 \nQ 23.96875 65.921875 18.8125 64.3125 \nQ 13.671875 62.703125 7.8125 59.421875 \nL 7.8125 69.390625 \nQ 13.765625 71.78125 18.9375 73 \nQ 24.125 74.21875 28.421875 74.21875 \nQ 39.75 74.21875 46.484375 68.546875 \nQ 53.21875 62.890625 53.21875 53.421875 \nQ 53.21875 48.921875 51.53125 44.890625 \nQ 49.859375 40.875 45.40625 35.40625 \nQ 44.1875 33.984375 37.640625 27.21875 \nQ 31.109375 20.453125 19.1875 8.296875 \nz\n\" id=\"DejaVuSans-50\"/>\n      </defs>\n      <g transform=\"translate(179.759643 239.238437)scale(0.1 -0.1)\">\n       <use xlink:href=\"#DejaVuSans-50\"/>\n       <use x=\"63.623047\" xlink:href=\"#DejaVuSans-48\"/>\n      </g>\n     </g>\n    </g>\n    <g id=\"xtick_6\">\n     <g id=\"line2d_6\">\n      <g>\n       <use style=\"stroke:#000000;stroke-width:0.8;\" x=\"224.950714\" xlink:href=\"#mdbb240c706\" y=\"224.64\"/>\n      </g>\n     </g>\n     <g id=\"text_6\">\n      <!-- 25 -->\n      <g transform=\"translate(218.588214 239.238437)scale(0.1 -0.1)\">\n       <use xlink:href=\"#DejaVuSans-50\"/>\n       <use x=\"63.623047\" xlink:href=\"#DejaVuSans-53\"/>\n      </g>\n     </g>\n    </g>\n    <g id=\"xtick_7\">\n     <g id=\"line2d_7\">\n      <g>\n       <use style=\"stroke:#000000;stroke-width:0.8;\" x=\"263.779286\" xlink:href=\"#mdbb240c706\" y=\"224.64\"/>\n      </g>\n     </g>\n     <g id=\"text_7\">\n      <!-- 30 -->\n      <defs>\n       <path d=\"M 40.578125 39.3125 \nQ 47.65625 37.796875 51.625 33 \nQ 55.609375 28.21875 55.609375 21.1875 \nQ 55.609375 10.40625 48.1875 4.484375 \nQ 40.765625 -1.421875 27.09375 -1.421875 \nQ 22.515625 -1.421875 17.65625 -0.515625 \nQ 12.796875 0.390625 7.625 2.203125 \nL 7.625 11.71875 \nQ 11.71875 9.328125 16.59375 8.109375 \nQ 21.484375 6.890625 26.8125 6.890625 \nQ 36.078125 6.890625 40.9375 10.546875 \nQ 45.796875 14.203125 45.796875 21.1875 \nQ 45.796875 27.640625 41.28125 31.265625 \nQ 36.765625 34.90625 28.71875 34.90625 \nL 20.21875 34.90625 \nL 20.21875 43.015625 \nL 29.109375 43.015625 \nQ 36.375 43.015625 40.234375 45.921875 \nQ 44.09375 48.828125 44.09375 54.296875 \nQ 44.09375 59.90625 40.109375 62.90625 \nQ 36.140625 65.921875 28.71875 65.921875 \nQ 24.65625 65.921875 20.015625 65.03125 \nQ 15.375 64.15625 9.8125 62.3125 \nL 9.8125 71.09375 \nQ 15.4375 72.65625 20.34375 73.4375 \nQ 25.25 74.21875 29.59375 74.21875 \nQ 40.828125 74.21875 47.359375 69.109375 \nQ 53.90625 64.015625 53.90625 55.328125 \nQ 53.90625 49.265625 50.4375 45.09375 \nQ 46.96875 40.921875 40.578125 39.3125 \nz\n\" id=\"DejaVuSans-51\"/>\n      </defs>\n      <g transform=\"translate(257.416786 239.238437)scale(0.1 -0.1)\">\n       <use xlink:href=\"#DejaVuSans-51\"/>\n       <use x=\"63.623047\" xlink:href=\"#DejaVuSans-48\"/>\n      </g>\n     </g>\n    </g>\n   </g>\n   <g id=\"matplotlib.axis_2\">\n    <g id=\"ytick_1\">\n     <g id=\"line2d_8\">\n      <defs>\n       <path d=\"M 0 0 \nL -3.5 0 \n\" id=\"m808136f349\" style=\"stroke:#000000;stroke-width:0.8;\"/>\n      </defs>\n      <g>\n       <use style=\"stroke:#000000;stroke-width:0.8;\" x=\"26.925\" xlink:href=\"#m808136f349\" y=\"11.082857\"/>\n      </g>\n     </g>\n     <g id=\"text_8\">\n      <!-- 0 -->\n      <g transform=\"translate(13.5625 14.882076)scale(0.1 -0.1)\">\n       <use xlink:href=\"#DejaVuSans-48\"/>\n      </g>\n     </g>\n    </g>\n    <g id=\"ytick_2\">\n     <g id=\"line2d_9\">\n      <g>\n       <use style=\"stroke:#000000;stroke-width:0.8;\" x=\"26.925\" xlink:href=\"#m808136f349\" y=\"49.911429\"/>\n      </g>\n     </g>\n     <g id=\"text_9\">\n      <!-- 5 -->\n      <g transform=\"translate(13.5625 53.710647)scale(0.1 -0.1)\">\n       <use xlink:href=\"#DejaVuSans-53\"/>\n      </g>\n     </g>\n    </g>\n    <g id=\"ytick_3\">\n     <g id=\"line2d_10\">\n      <g>\n       <use style=\"stroke:#000000;stroke-width:0.8;\" x=\"26.925\" xlink:href=\"#m808136f349\" y=\"88.74\"/>\n      </g>\n     </g>\n     <g id=\"text_10\">\n      <!-- 10 -->\n      <g transform=\"translate(7.2 92.539219)scale(0.1 -0.1)\">\n       <use xlink:href=\"#DejaVuSans-49\"/>\n       <use x=\"63.623047\" xlink:href=\"#DejaVuSans-48\"/>\n      </g>\n     </g>\n    </g>\n    <g id=\"ytick_4\">\n     <g id=\"line2d_11\">\n      <g>\n       <use style=\"stroke:#000000;stroke-width:0.8;\" x=\"26.925\" xlink:href=\"#m808136f349\" y=\"127.568571\"/>\n      </g>\n     </g>\n     <g id=\"text_11\">\n      <!-- 15 -->\n      <g transform=\"translate(7.2 131.36779)scale(0.1 -0.1)\">\n       <use xlink:href=\"#DejaVuSans-49\"/>\n       <use x=\"63.623047\" xlink:href=\"#DejaVuSans-53\"/>\n      </g>\n     </g>\n    </g>\n    <g id=\"ytick_5\">\n     <g id=\"line2d_12\">\n      <g>\n       <use style=\"stroke:#000000;stroke-width:0.8;\" x=\"26.925\" xlink:href=\"#m808136f349\" y=\"166.397143\"/>\n      </g>\n     </g>\n     <g id=\"text_12\">\n      <!-- 20 -->\n      <g transform=\"translate(7.2 170.196362)scale(0.1 -0.1)\">\n       <use xlink:href=\"#DejaVuSans-50\"/>\n       <use x=\"63.623047\" xlink:href=\"#DejaVuSans-48\"/>\n      </g>\n     </g>\n    </g>\n    <g id=\"ytick_6\">\n     <g id=\"line2d_13\">\n      <g>\n       <use style=\"stroke:#000000;stroke-width:0.8;\" x=\"26.925\" xlink:href=\"#m808136f349\" y=\"205.225714\"/>\n      </g>\n     </g>\n     <g id=\"text_13\">\n      <!-- 25 -->\n      <g transform=\"translate(7.2 209.024933)scale(0.1 -0.1)\">\n       <use xlink:href=\"#DejaVuSans-50\"/>\n       <use x=\"63.623047\" xlink:href=\"#DejaVuSans-53\"/>\n      </g>\n     </g>\n    </g>\n   </g>\n   <g id=\"patch_3\">\n    <path d=\"M 26.925 224.64 \nL 26.925 7.2 \n\" style=\"fill:none;stroke:#000000;stroke-linecap:square;stroke-linejoin:miter;stroke-width:0.8;\"/>\n   </g>\n   <g id=\"patch_4\">\n    <path d=\"M 275.427857 224.64 \nL 275.427857 7.2 \n\" style=\"fill:none;stroke:#000000;stroke-linecap:square;stroke-linejoin:miter;stroke-width:0.8;\"/>\n   </g>\n   <g id=\"patch_5\">\n    <path d=\"M 26.925 224.64 \nL 275.427857 224.64 \n\" style=\"fill:none;stroke:#000000;stroke-linecap:square;stroke-linejoin:miter;stroke-width:0.8;\"/>\n   </g>\n   <g id=\"patch_6\">\n    <path d=\"M 26.925 7.2 \nL 275.427857 7.2 \n\" style=\"fill:none;stroke:#000000;stroke-linecap:square;stroke-linejoin:miter;stroke-width:0.8;\"/>\n   </g>\n  </g>\n </g>\n <defs>\n  <clipPath id=\"pf1cdc6ddcc\">\n   <rect height=\"217.44\" width=\"248.502857\" x=\"26.925\" y=\"7.2\"/>\n  </clipPath>\n </defs>\n</svg>\n",
      "image/png": "[encoded data removed]"
     },
     "metadata": {
      "needs_background": "light"
     }
    }
   ],
   "source": [
    "#创建一张黑色的图片\n",
    "img = np.zeros((28,32), np.float32)\n",
    "print(img.shape)\n",
    "img = cv2.cvtColor(img, cv2.COLOR_GRAY2BGR)\n",
    "print(img.shape)\n",
    "plt.imshow(img)\n",
    "plt.show()"
   ]
  },
  {
   "cell_type": "code",
   "execution_count": null,
   "metadata": {
    "tags": []
   },
   "outputs": [],
   "source": [
    "'''\n",
    "HSV颜色空间规定:H范围0~360,S范围0~1,V范围0~1 \n",
    "\n",
    "PS中的HSV范围，H是0-360，S是0-1，V（B）是0-1\n",
    "\n",
    "opencv中的HSV范围，H是0-180，S是0-255，V是0-255\n",
    "\n",
    "'''\n",
    "\n",
    "# h:0-360 , s:0-255, v:0-255\n",
    "# r:0-255, g:0-255, b:0-255\n",
    "def rgb_to_hsv(rgb=[]):\n",
    "    img=np.array([[rgb]],np.uint8)\n",
    "    #print(img)\n",
    "    #print(img)\n",
    "    plt.imshow(img)\n",
    "    plt.show()\n",
    "    img_hsv = cv2.cvtColor(img, cv2.COLOR_RGB2HSV)\n",
    "    img_hsv[0][0]*=2\n",
    "    #print(img_hsv)\n",
    "    return img_hsv\n",
    "\n",
    "\n",
    "def hsv_to_rgb(hsv=[]):\n",
    "    hsv[0]/=2\n",
    "    img_hsv=np.array([[hsv]],np.uint8)\n",
    "    img_rgb = cv2.cvtColor(img_hsv, cv2.COLOR_HSV2RGB)\n",
    "    plt.imshow(img_rgb)\n",
    "    plt.show()\n",
    "    return img_rgb\n",
    "\n",
    "#rgb_to_hsv([250,0,0])\n",
    "#hsv_to_rgb([360,255,255])\n",
    "\n",
    "# 从h=0 开始旋转，每18°取一组颜色，作为配色方案\n",
    "for i in range(0,360,18):\n",
    "    #print(i)\n",
    "    a=hsv_to_rgb([i,255,255])\n",
    "    b=hsv_to_rgb([i+18,255,255])\n",
    "    print(a,b)"
   ]
  },
  {
   "cell_type": "code",
   "execution_count": null,
   "metadata": {},
   "outputs": [],
   "source": [
    "#opencv读取图片，默认是BGR\n",
    "img=cv2.imread('img/test.jpg',cv2.IMREAD_COLOR)\n",
    "img=cv2.cvtColor(img, cv2.COLOR_BGR2RGB)\n",
    "plt.imshow(img)\n",
    "plt.show()"
   ]
  }
 ],
 "metadata": {
  "kernelspec": {
   "display_name": "Python 3",
   "language": "python",
   "name": "python3"
  },
  "language_info": {
   "codemirror_mode": {
    "name": "ipython",
    "version": 3
   },
   "file_extension": ".py",
   "mimetype": "text/x-python",
   "name": "python",
   "nbconvert_exporter": "python",
   "pygments_lexer": "ipython3",
   "version": "3.7.6-final"
  }
 },
 "nbformat": 4,
 "nbformat_minor": 4
}