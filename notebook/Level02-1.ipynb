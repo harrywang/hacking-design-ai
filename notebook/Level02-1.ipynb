{
 "cells": [
  {
   "cell_type": "markdown",
   "metadata": {},
   "source": [
    "# 问题转化为向量空间的数学运算"
   ]
  },
  {
   "cell_type": "code",
   "execution_count": 12,
   "metadata": {},
   "outputs": [],
   "source": [
    "import tensorflow_hub as hub\n",
    "import numpy as np\n",
    "\n",
    "# load a pre-trained embedding\n",
    "# Token based text embedding trained on Chinese Google News 100B corpus.\n",
    "# https://tfhub.dev/google/nnlm-zh-dim50/2\n",
    "embed = hub.load(\"https://tfhub.dev/google/nnlm-zh-dim50/2\")"
   ]
  },
  {
   "cell_type": "code",
   "execution_count": 13,
   "metadata": {},
   "outputs": [
    {
     "output_type": "execute_result",
     "data": {
      "text/plain": "<tf.Tensor: shape=(1, 50), dtype=float32, numpy=\narray([[-4.61892923e-03,  3.14871520e-02, -1.37666896e-01,\n        -1.80223718e-01,  3.18889290e-01,  1.59864619e-01,\n        -1.30209308e-02, -6.74860328e-02,  2.50707179e-01,\n         8.81165266e-02,  1.73361838e-01,  3.79935445e-05,\n        -1.86411262e-01, -3.23447175e-02,  1.82978258e-01,\n        -2.81624436e-01, -2.01185316e-01,  2.37850443e-01,\n         4.68596071e-02,  1.18288822e-01, -1.80558890e-01,\n         6.45632371e-02, -8.79279105e-04,  1.21993199e-01,\n        -1.00037001e-01,  1.39083508e-02, -1.18444867e-01,\n         7.55840838e-02, -6.39892668e-02, -9.03432146e-02,\n        -5.55194207e-02,  1.13131203e-01, -4.65420913e-03,\n        -1.44980639e-01,  2.39714831e-01,  9.70328003e-02,\n         7.29109645e-02, -1.52734043e-02, -2.22533606e-02,\n        -2.61341315e-02, -2.73455799e-01, -1.15428448e-01,\n         9.27815959e-02, -5.35708964e-02, -2.38581806e-01,\n        -1.06254369e-01, -1.78294197e-01, -1.30673364e-01,\n         1.47805735e-01,  1.01007186e-01]], dtype=float32)>"
     },
     "metadata": {},
     "execution_count": 13
    }
   ],
   "source": [
    "embed([\"学生\"]) # turn a string into a tensor "
   ]
  },
  {
   "cell_type": "code",
   "execution_count": 14,
   "metadata": {},
   "outputs": [],
   "source": [
    "def cos_sim(vector_a, vector_b):\n",
    "    \"\"\"\n",
    "    计算两个向量之间的余弦相似度\n",
    "    :param vector_a: 向量 a \n",
    "    :param vector_b: 向量 b\n",
    "    :return: sim\n",
    "    \"\"\"\n",
    "    vector_a = np.mat(vector_a)\n",
    "    vector_b = np.mat(vector_b)\n",
    "    \n",
    "    num = float(vector_a * vector_b.T)\n",
    "    denom = np.linalg.norm(vector_a) * np.linalg.norm(vector_b)\n",
    "    \n",
    "    cos = num / denom\n",
    "    sim = 0.5 + 0.5 * cos\n",
    "    \n",
    "    return sim"
   ]
  },
  {
   "cell_type": "code",
   "execution_count": 15,
   "metadata": {
    "tags": []
   },
   "outputs": [],
   "source": [
    "def embeddings_cos_sim(ab):\n",
    "    embeddings = embed(ab)\n",
    "    B=embeddings.numpy()[1]\n",
    "    A=embeddings.numpy()[0]\n",
    "    print(ab, cos_sim(A, B))"
   ]
  },
  {
   "cell_type": "code",
   "execution_count": 11,
   "metadata": {
    "tags": []
   },
   "outputs": [
    {
     "output_type": "stream",
     "name": "stdout",
     "text": "['猫', '狗'] 0.9254584223578479\n"
    }
   ],
   "source": [
    "embeddings_cos_sim([\"猫\",\"狗\"])"
   ]
  },
  {
   "cell_type": "code",
   "execution_count": 16,
   "metadata": {
    "tags": []
   },
   "outputs": [
    {
     "output_type": "stream",
     "name": "stdout",
     "text": "['建筑设计', '空间设计'] 0.702155676317734\n"
    }
   ],
   "source": [
    "embeddings_cos_sim([\"建筑设计\",\"空间设计\"])"
   ]
  },
  {
   "cell_type": "markdown",
   "metadata": {},
   "source": [
    "# 特征工程、机器学习"
   ]
  },
  {
   "cell_type": "code",
   "execution_count": 25,
   "metadata": {
    "tags": []
   },
   "outputs": [
    {
     "output_type": "stream",
     "name": "stdout",
     "text": "['setosa' 'versicolor' 'virginica']\n"
    },
    {
     "output_type": "execute_result",
     "data": {
      "text/plain": "DecisionTreeClassifier(max_depth=3)"
     },
     "metadata": {},
     "execution_count": 25
    }
   ],
   "source": [
    "from sklearn import datasets\n",
    "import matplotlib.pyplot as plt\n",
    "from sklearn import tree\n",
    "\n",
    "# Iris数据集是常用的分类实验数据集，\n",
    "# 由Fisher, 1936收集整理。Iris也称鸢尾花卉数据集，\n",
    "# 是一类多重变量分析的数据集。数据集包含150个数据集，\n",
    "# 分为3类，每类50个数据，每个数据包含4个属性。\n",
    "# 可通过花萼长度，花萼宽度，花瓣长度，花瓣宽度4个属性预测鸢尾花卉属于（Setosa，Versicolour，Virginica）三个种类中的哪一类。\n",
    "\n",
    "#载入数据集\n",
    "iris = datasets.load_iris()\n",
    "#print(iris)\n",
    "iris_data=iris['data']\n",
    "#print(iris_data[0])\n",
    "\n",
    "iris_label=iris['target']\n",
    "#print(iris_label[0])\n",
    "iris_target_name=iris['target_names']\n",
    "print(iris_target_name)\n",
    "\n",
    "X=np.array(iris_data)\n",
    "Y=np.array(iris_label)\n",
    "\n",
    "# print(X[0],iris_target_name[0])\n",
    "\n",
    "# # #训练,决策树\n",
    "model=tree.DecisionTreeClassifier(max_depth=3)\n",
    "# # 开始训练\n",
    "model.fit(X,Y)\n",
    " \n",
    "# #这里预测当前输入的值的所属分类\n",
    "# print('预测类别是',iris_target_name[clf.predict([[5,3,1,0.1]])[0]])"
   ]
  },
  {
   "cell_type": "code",
   "execution_count": 26,
   "metadata": {},
   "outputs": [
    {
     "output_type": "execute_result",
     "data": {
      "text/plain": "1"
     },
     "metadata": {},
     "execution_count": 26
    }
   ],
   "source": [
    "k=[1,2,3,4]\n",
    "k[0]"
   ]
  },
  {
   "cell_type": "code",
   "execution_count": 27,
   "metadata": {
    "tags": []
   },
   "outputs": [
    {
     "output_type": "stream",
     "name": "stdout",
     "text": "预测类别是 setosa\n"
    }
   ],
   "source": [
    "model.predict([ [1,3,0.5,6] ] )[0]\n",
    "print('预测类别是',iris_target_name[0])"
   ]
  },
  {
   "cell_type": "markdown",
   "metadata": {},
   "source": [
    "# 深度学习-表示学习，万物皆向量"
   ]
  },
  {
   "cell_type": "code",
   "execution_count": null,
   "metadata": {},
   "outputs": [],
   "source": [
    "#欧氏距离和余弦相似度\n",
    "def dist_sim(vector_a, vector_b):\n",
    "    vector_a = np.mat(vector_a)\n",
    "    vector_b = np.mat(vector_b)\n",
    "    dist = np.linalg.norm(vector_a - vector_b)  \n",
    "    sim = 1.0 / (1.0 + dist) #归一化  \n",
    "    return sim"
   ]
  },
  {
   "cell_type": "code",
   "execution_count": null,
   "metadata": {},
   "outputs": [],
   "source": [
    "dist_sim(A,B)"
   ]
  },
  {
   "cell_type": "markdown",
   "metadata": {},
   "source": [
    "# 机器学习 分类\n",
    "## 找出群体中的KOL\n",
    "### 对比欧式距离与余弦相似度"
   ]
  },
  {
   "cell_type": "code",
   "execution_count": null,
   "metadata": {},
   "outputs": [],
   "source": [
    "#加载数据\n",
    "import pandas as pd\n",
    "df = pd.read_csv(\"data/students.csv\")"
   ]
  },
  {
   "cell_type": "code",
   "execution_count": null,
   "metadata": {},
   "outputs": [],
   "source": [
    "#查看下数据的前几条\n",
    "df.head()"
   ]
  },
  {
   "cell_type": "code",
   "execution_count": null,
   "metadata": {},
   "outputs": [],
   "source": [
    "#取需要的列\n",
    "student=df.loc[1,['Name','Email','School','Major','grade','Interest','Interest level','Code']].values.tolist()"
   ]
  },
  {
   "cell_type": "code",
   "execution_count": null,
   "metadata": {},
   "outputs": [],
   "source": [
    "#加载 预训练模型\n",
    "import tensorflow_hub as hub\n",
    "embed = hub.load(\"model/nnlm-zh-dim50\")"
   ]
  },
  {
   "cell_type": "code",
   "execution_count": null,
   "metadata": {},
   "outputs": [],
   "source": [
    "# 测试下\n",
    "embeddings = embed([\"\".join(student)])[0]\n",
    "embeddings.numpy()"
   ]
  },
  {
   "cell_type": "code",
   "execution_count": null,
   "metadata": {},
   "outputs": [],
   "source": [
    "#把特征转成 稠密向量\n",
    "students=[]\n",
    "for i in range(len(df)):\n",
    "    #print(i)\n",
    "    student=df.loc[i,['Email','School','Major','grade','Interest','Interest level','Code']].values.tolist()\n",
    "    students.append(embed([\"\".join(student)])[0].numpy())\n",
    "students=np.array(students)"
   ]
  },
  {
   "cell_type": "code",
   "execution_count": null,
   "metadata": {},
   "outputs": [],
   "source": [
    "#每位同学的稠密向量\n",
    "students"
   ]
  },
  {
   "cell_type": "code",
   "execution_count": null,
   "metadata": {},
   "outputs": [],
   "source": [
    "#使用scikit learn的余弦相似度计算方法\n",
    "from sklearn.metrics.pairwise import cosine_similarity\n",
    "sim=cosine_similarity(students)\n",
    "#查看下第一位与第二位同学的相似度\n",
    "sim[0][1]"
   ]
  },
  {
   "cell_type": "code",
   "execution_count": null,
   "metadata": {},
   "outputs": [],
   "source": [
    "#为每位同学计算与他最相似的一位同学，只取相似度大于0.6的第一位同学\n",
    "count_students={}\n",
    "for i in range(len(students)):\n",
    "    others=[]\n",
    "    for j in range(len(students)):\n",
    "        if i!=j:\n",
    "            others.append({\n",
    "                \"index\":j,\n",
    "                \"score\":sim[i][j]\n",
    "            })\n",
    "    others=sorted(others, key=lambda x:x[\"score\"],reverse=True)\n",
    "    if others[0]['score']>0.6:\n",
    "        print(df.loc[i,'Name'],df.loc[others[0]['index'],'Name'],others[0]['score']) \n",
    "        if not df.loc[others[0]['index'],'Name'] in count_students:\n",
    "            count_students[df.loc[others[0]['index'],'Name']]=0\n",
    "        count_students[df.loc[others[0]['index'],'Name']]+=others[0]['score']"
   ]
  },
  {
   "cell_type": "code",
   "execution_count": null,
   "metadata": {},
   "outputs": [],
   "source": [
    "# 不太可能是kol的同学（与其他同学相似性较低)\n",
    "for i in range(len(students)):\n",
    "    if not df.loc[i,'Name'] in count_students:\n",
    "        print(df.loc[i,'Name'])"
   ]
  },
  {
   "cell_type": "code",
   "execution_count": null,
   "metadata": {},
   "outputs": [],
   "source": [
    "# 最有可能是kol的同学\n",
    "sorted(count_students.items(), key=lambda x:x[1],reverse=True)"
   ]
  },
  {
   "cell_type": "markdown",
   "metadata": {},
   "source": [
    "# 聚类算法\n",
    "### 聚类班级学生"
   ]
  },
  {
   "cell_type": "code",
   "execution_count": null,
   "metadata": {},
   "outputs": [],
   "source": [
    "#引入库，并测试\n",
    "from sklearn.cluster import KMeans,DBSCAN,Birch\n",
    "import numpy as np\n",
    "\n",
    "X = np.array([[1,2, 2], [1,2, 4], [1,2, 0],[4, 2,2], [4,2, 4], [4,1, 0]])\n",
    "\n",
    "kmeans = KMeans(n_clusters=2, random_state=0).fit(X)\n",
    "\n",
    "kmeans.labels_ #输出原始数据的聚类后的标签值\n"
   ]
  },
  {
   "cell_type": "code",
   "execution_count": null,
   "metadata": {},
   "outputs": [],
   "source": [
    "#设置数量\n",
    "model = KMeans(n_clusters =2)"
   ]
  },
  {
   "cell_type": "code",
   "execution_count": null,
   "metadata": {},
   "outputs": [],
   "source": [
    "#训练\n",
    "model.fit(students)"
   ]
  },
  {
   "cell_type": "code",
   "execution_count": null,
   "metadata": {},
   "outputs": [],
   "source": [
    "for i in range(len(model.labels_)):\n",
    "    if model.labels_[i]==0:\n",
    "        print(df.loc[i,'Name'])\n",
    "    "
   ]
  },
  {
   "cell_type": "code",
   "execution_count": null,
   "metadata": {},
   "outputs": [],
   "source": [
    "#换一种\n",
    "model=DBSCAN(eps=0.11, min_samples=2).fit(students)\n",
    "print(model.labels_)"
   ]
  },
  {
   "cell_type": "code",
   "execution_count": null,
   "metadata": {},
   "outputs": [],
   "source": [
    "#换一种\n",
    "model = Birch(n_clusters=2)\n",
    "model.fit(students)\n",
    "print(model.labels_)"
   ]
  },
  {
   "cell_type": "code",
   "execution_count": null,
   "metadata": {},
   "outputs": [],
   "source": [
    "# 可视化查看模型学习到的分类\n",
    "from sklearn.manifold import TSNE\n",
    "import matplotlib.pyplot as plt\n",
    "\n",
    "tsne = TSNE(n_components=2)\n",
    "decomposition_data = tsne.fit_transform(students)\n",
    "\n",
    "x = []\n",
    "y = []\n",
    " \n",
    "for i in decomposition_data:\n",
    "    x.append(i[0])\n",
    "    y.append(i[1])\n",
    "    \n",
    "plt.figure(figsize=(10, 10)) \n",
    "ax = plt.axes() \n",
    "plt.scatter(x, y, c=model.labels_, marker=\"x\") \n",
    "plt.xticks(()) \n",
    "plt.yticks(()) \n",
    "plt.show()"
   ]
  },
  {
   "cell_type": "markdown",
   "metadata": {},
   "source": [
    "# 深度学习 hello world\n",
    "### 手写数字分类"
   ]
  },
  {
   "cell_type": "code",
   "execution_count": null,
   "metadata": {},
   "outputs": [],
   "source": [
    "%load_ext tensorboard\n",
    "\n",
    "#引入相关库\n",
    "import cv2\n",
    "from matplotlib import pyplot as plt\n",
    "import tensorflow as tf\n",
    "import datetime"
   ]
  },
  {
   "cell_type": "code",
   "execution_count": null,
   "metadata": {},
   "outputs": [],
   "source": [
    "# 下载mnist数据集\n",
    "mnist = tf.keras.datasets.mnist\n",
    "(x_train, y_train), (x_test, y_test) = mnist.load_data()\n",
    "x_train, x_test = x_train / 255.0, x_test / 255.0"
   ]
  },
  {
   "cell_type": "code",
   "execution_count": null,
   "metadata": {},
   "outputs": [],
   "source": [
    "# 数据集维度\n",
    "print(x_test.shape,y_test.shape)"
   ]
  },
  {
   "cell_type": "code",
   "execution_count": null,
   "metadata": {},
   "outputs": [],
   "source": [
    "#查看下数据集\n",
    "plt.imshow(x_test[1882])\n",
    "plt.show()"
   ]
  },
  {
   "cell_type": "code",
   "execution_count": null,
   "metadata": {},
   "outputs": [],
   "source": [
    "#模型定义\n",
    "model = tf.keras.models.Sequential([\n",
    "  tf.keras.layers.Flatten(input_shape=(28, 28)),\n",
    "  tf.keras.layers.Dense(10, activation='relu'),\n",
    "  #tf.keras.layers.Dropout(0.2),\n",
    "  tf.keras.layers.Dense(10, activation='relu'),\n",
    "  tf.keras.layers.Dense(10, activation='softmax')\n",
    "])\n",
    "\n",
    "model.compile(optimizer='adam',\n",
    "              loss='sparse_categorical_crossentropy',\n",
    "              metrics=['accuracy'])"
   ]
  },
  {
   "cell_type": "code",
   "execution_count": null,
   "metadata": {},
   "outputs": [],
   "source": [
    "#训练开始\n",
    "model.fit(x_train, y_train, epochs=5)\n",
    "#评估模型\n",
    "model.evaluate(x_test,  y_test, verbose=2)"
   ]
  },
  {
   "cell_type": "markdown",
   "metadata": {},
   "source": [
    "# 颜色分类 v1.0"
   ]
  },
  {
   "cell_type": "markdown",
   "metadata": {},
   "source": [
    "### 使用 Pandas 处理数据"
   ]
  },
  {
   "cell_type": "code",
   "execution_count": 31,
   "metadata": {},
   "outputs": [],
   "source": [
    "#使用 Pandas 创建一个 dataframe\n",
    "import pandas as pd\n",
    "dataframe=pd.read_json(\"data/colorData.json\", orient=\"records\")"
   ]
  },
  {
   "cell_type": "code",
   "execution_count": 32,
   "metadata": {},
   "outputs": [
    {
     "output_type": "execute_result",
     "data": {
      "text/plain": "     b    g       label    r                           uid\n0  155  183   green-ish   81  EjbbUhVExBSZxtpKfcQ5qzT7jDW2\n1   71   22    pink-ish  249  fpqsSD6CvNNFQmRp9sJDdI1QJm32\n2   33  196  orange-ish  254  fpqsSD6CvNNFQmRp9sJDdI1QJm32\n3  237  147    blue-ish  170  fpqsSD6CvNNFQmRp9sJDdI1QJm32\n4  225  159    blue-ish   15  fpqsSD6CvNNFQmRp9sJDdI1QJm32",
      "text/html": "<div>\n<style scoped>\n    .dataframe tbody tr th:only-of-type {\n        vertical-align: middle;\n    }\n\n    .dataframe tbody tr th {\n        vertical-align: top;\n    }\n\n    .dataframe thead th {\n        text-align: right;\n    }\n</style>\n<table border=\"1\" class=\"dataframe\">\n  <thead>\n    <tr style=\"text-align: right;\">\n      <th></th>\n      <th>b</th>\n      <th>g</th>\n      <th>label</th>\n      <th>r</th>\n      <th>uid</th>\n    </tr>\n  </thead>\n  <tbody>\n    <tr>\n      <th>0</th>\n      <td>155</td>\n      <td>183</td>\n      <td>green-ish</td>\n      <td>81</td>\n      <td>EjbbUhVExBSZxtpKfcQ5qzT7jDW2</td>\n    </tr>\n    <tr>\n      <th>1</th>\n      <td>71</td>\n      <td>22</td>\n      <td>pink-ish</td>\n      <td>249</td>\n      <td>fpqsSD6CvNNFQmRp9sJDdI1QJm32</td>\n    </tr>\n    <tr>\n      <th>2</th>\n      <td>33</td>\n      <td>196</td>\n      <td>orange-ish</td>\n      <td>254</td>\n      <td>fpqsSD6CvNNFQmRp9sJDdI1QJm32</td>\n    </tr>\n    <tr>\n      <th>3</th>\n      <td>237</td>\n      <td>147</td>\n      <td>blue-ish</td>\n      <td>170</td>\n      <td>fpqsSD6CvNNFQmRp9sJDdI1QJm32</td>\n    </tr>\n    <tr>\n      <th>4</th>\n      <td>225</td>\n      <td>159</td>\n      <td>blue-ish</td>\n      <td>15</td>\n      <td>fpqsSD6CvNNFQmRp9sJDdI1QJm32</td>\n    </tr>\n  </tbody>\n</table>\n</div>"
     },
     "metadata": {},
     "execution_count": 32
    }
   ],
   "source": [
    "#预览下前面几条数据\n",
    "dataframe.head()"
   ]
  },
  {
   "cell_type": "code",
   "execution_count": 33,
   "metadata": {},
   "outputs": [
    {
     "output_type": "execute_result",
     "data": {
      "text/plain": "b         int64\ng         int64\nlabel    object\nr         int64\nuid      object\ndtype: object"
     },
     "metadata": {},
     "execution_count": 33
    }
   ],
   "source": [
    "#查看下数据类型\n",
    "dataframe.dtypes"
   ]
  },
  {
   "cell_type": "code",
   "execution_count": 34,
   "metadata": {},
   "outputs": [],
   "source": [
    "#label需要转成int\n",
    "dataframe['label'] = pd.Categorical(dataframe['label'])\n",
    "dataframe['label'] = dataframe.label.cat.codes"
   ]
  },
  {
   "cell_type": "code",
   "execution_count": 35,
   "metadata": {},
   "outputs": [],
   "source": [
    "# 获取标签名称\n",
    "#code--label\n",
    "def get_label_name(label=0):\n",
    "    labels=pd.Categorical(['brown-ish','blue-ish', 'green-ish', 'grey-ish', 'orange-ish',\n",
    "           'pink-ish', 'purple-ish', 'red-ish', 'yellow-ish'])\n",
    "    index=labels.codes.tolist().index(label)\n",
    "    return labels.categories.tolist()[index]"
   ]
  },
  {
   "cell_type": "code",
   "execution_count": 36,
   "metadata": {},
   "outputs": [
    {
     "output_type": "execute_result",
     "data": {
      "text/plain": "'grey-ish'"
     },
     "metadata": {},
     "execution_count": 36
    }
   ],
   "source": [
    "# 测试下\n",
    "get_label_name(3)"
   ]
  },
  {
   "cell_type": "code",
   "execution_count": 37,
   "metadata": {},
   "outputs": [
    {
     "output_type": "execute_result",
     "data": {
      "text/plain": "2    1599\n0    1218\n6     823\n5     511\n7     412\n1     319\n8     275\n4     259\n3     227\nName: label, dtype: int64"
     },
     "metadata": {},
     "execution_count": 37
    }
   ],
   "source": [
    "#查看标签分布\n",
    "dataframe.loc[:, 'label'].value_counts()"
   ]
  },
  {
   "cell_type": "code",
   "execution_count": 38,
   "metadata": {},
   "outputs": [],
   "source": [
    "#准备训练数据\n",
    "dataframe = dataframe[['r','g','b','label']]"
   ]
  },
  {
   "cell_type": "markdown",
   "metadata": {},
   "source": [
    "### 制作数据集"
   ]
  },
  {
   "cell_type": "code",
   "execution_count": 39,
   "metadata": {
    "tags": []
   },
   "outputs": [
    {
     "output_type": "stream",
     "name": "stdout",
     "text": "4570 train examples\n508 validation examples\n565 test examples\n"
    }
   ],
   "source": [
    "#分割成训练集、验证集、测试集\n",
    "from sklearn.model_selection import train_test_split\n",
    "\n",
    "df=dataframe.copy()\n",
    "\n",
    "train, test = train_test_split(df, test_size=0.1)\n",
    "train, val = train_test_split(train, test_size=0.1)\n",
    "print(len(train), 'train examples')\n",
    "print(len(val), 'validation examples')\n",
    "print(len(test), 'test examples')"
   ]
  },
  {
   "cell_type": "code",
   "execution_count": 40,
   "metadata": {},
   "outputs": [],
   "source": [
    "# 一种从 Pandas Dataframe 创建 tf.data 数据集的实用程序方法（utility method）\n",
    "def df_to_dataset(dataframe, shuffle=True, batch_size=32):\n",
    "    x = dataframe.copy()\n",
    "    x=x.astype('float64')\n",
    "    y = x.pop('label')\n",
    "    ds = tf.data.Dataset.from_tensor_slices((x.values, y.values))\n",
    "    if shuffle:\n",
    "        ds = ds.shuffle(buffer_size=len(dataframe))\n",
    "    ds = ds.batch(batch_size)\n",
    "    return ds"
   ]
  },
  {
   "cell_type": "code",
   "execution_count": 44,
   "metadata": {},
   "outputs": [],
   "source": [
    "import datetime\n",
    "import tensorflow as tf\n",
    "#参数\n",
    "\n",
    "#Batch Size：一次训练所选取的样本数。\n",
    "BATCH_SIZE=64\n",
    "#失活率(Dropout Rate) 每层中丢弃的神经元占整层神经元的比率\n",
    "DROPOUT_RATE=0.1045\n",
    "#轮次，整个输入数据的单次前向和反向传递\n",
    "EPOCHS=100\n",
    "\n",
    "log_dir = \"logs/fit/DROPOUT_RATE_\" + str(DROPOUT_RATE)+\"_\"+datetime.datetime.now().strftime(\"%Y%m%d-%H%M%S\")\n",
    "tensorboard_callback = tf.keras.callbacks.TensorBoard(log_dir=log_dir, histogram_freq=1)"
   ]
  },
  {
   "cell_type": "code",
   "execution_count": 45,
   "metadata": {},
   "outputs": [],
   "source": [
    "train_ds=df_to_dataset(train,batch_size=BATCH_SIZE)\n",
    "val_ds=df_to_dataset(val,batch_size=BATCH_SIZE)\n",
    "test_ds=df_to_dataset(test,batch_size=BATCH_SIZE)"
   ]
  },
  {
   "cell_type": "code",
   "execution_count": 46,
   "metadata": {
    "tags": []
   },
   "outputs": [
    {
     "output_type": "stream",
     "name": "stdout",
     "text": "(<tf.Tensor: shape=(64, 3), dtype=float64, numpy=\narray([[104.,  18.,  73.],\n       [219., 143.,  83.],\n       [230.,  94.,   3.],\n       [121.,  51.,  94.],\n       [155., 172., 151.],\n       [210.,  80., 233.],\n       [113.,   7.,  39.],\n       [ 93., 216., 122.],\n       [220.,  36., 252.],\n       [ 57., 169., 250.],\n       [  7., 224.,  85.],\n       [156., 106., 118.],\n       [105., 222., 247.],\n       [175.,  52.,  81.],\n       [ 51., 105.,  47.],\n       [ 55., 217.,  41.],\n       [145.,  71.,  53.],\n       [ 36., 190., 117.],\n       [ 50., 185., 166.],\n       [161., 189., 164.],\n       [ 86., 148.,   3.],\n       [ 66.,  25., 155.],\n       [ 78., 213., 240.],\n       [246.,  81., 175.],\n       [157.,  51., 189.],\n       [ 32., 147.,  82.],\n       [191., 218., 127.],\n       [ 53., 190., 112.],\n       [ 21., 133., 135.],\n       [212., 196.,  95.],\n       [155., 195.,  54.],\n       [ 15., 177., 212.],\n       [  5., 186.,  44.],\n       [107.,  25., 104.],\n       [142., 249.,  63.],\n       [227., 148.,  13.],\n       [ 21.,  45., 202.],\n       [ 74.,   0.,  97.],\n       [  1., 145., 101.],\n       [196., 182.,  52.],\n       [183.,  16., 140.],\n       [ 64.,  74., 187.],\n       [222., 117., 231.],\n       [118.,  54.,  92.],\n       [173.,  63., 181.],\n       [236.,  31., 159.],\n       [106., 198.,  98.],\n       [252.,  90.,  54.],\n       [112., 119.,  32.],\n       [ 99.,  75., 148.],\n       [ 37.,   6., 101.],\n       [ 31., 251., 250.],\n       [140., 247., 163.],\n       [ 73., 113.,  94.],\n       [230.,  34., 200.],\n       [192.,  46.,  60.],\n       [198.,  36., 160.],\n       [184., 204., 168.],\n       [ 89.,  35., 158.],\n       [ 51.,  51.,   5.],\n       [177.,  58., 156.],\n       [ 27.,  92., 118.],\n       [195., 206., 124.],\n       [ 83., 184., 148.]])>, <tf.Tensor: shape=(64,), dtype=float64, numpy=\narray([6., 4., 4., 6., 3., 6., 7., 2., 6., 0., 2., 5., 0., 7., 2., 2., 1.,\n       7., 2., 3., 2., 7., 0., 5., 6., 2., 2., 2., 0., 8., 2., 0., 2., 6.,\n       2., 4., 0., 6., 2., 4., 6., 0., 5., 6., 6., 5., 2., 7., 2., 0., 0.,\n       0., 2., 7., 5., 7., 6., 2., 6., 1., 6., 0., 2., 2.])>)\n"
    }
   ],
   "source": [
    "for f in train_ds.take(1):\n",
    "    print(f)"
   ]
  },
  {
   "cell_type": "markdown",
   "metadata": {},
   "source": [
    "### 模型"
   ]
  },
  {
   "cell_type": "code",
   "execution_count": 47,
   "metadata": {
    "scrolled": true,
    "tags": []
   },
   "outputs": [
    {
     "output_type": "stream",
     "name": "stdout",
     "text": "Model: \"sequential\"\n_________________________________________________________________\nLayer (type)                 Output Shape              Param #   \n=================================================================\ndense (Dense)                (None, 12)                48        \n_________________________________________________________________\ndense_1 (Dense)              (None, 48)                624       \n_________________________________________________________________\ndropout (Dropout)            (None, 48)                0         \n_________________________________________________________________\ndense_2 (Dense)              (None, 128)               6272      \n_________________________________________________________________\ndropout_1 (Dropout)          (None, 128)               0         \n_________________________________________________________________\ndense_3 (Dense)              (None, 48)                6192      \n_________________________________________________________________\ndense_4 (Dense)              (None, 9)                 441       \n=================================================================\nTotal params: 13,577\nTrainable params: 13,577\nNon-trainable params: 0\n_________________________________________________________________\n"
    }
   ],
   "source": [
    "model = tf.keras.Sequential([\n",
    "  tf.keras.layers.Dense(12, input_shape=(3,),activation='softplus'),\n",
    "  tf.keras.layers.Dense(48, activation='relu'),\n",
    "  tf.keras.layers.Dropout(DROPOUT_RATE),\n",
    "  tf.keras.layers.Dense(128, activation='relu'),\n",
    "  tf.keras.layers.Dropout(DROPOUT_RATE),\n",
    "  tf.keras.layers.Dense(48, activation='relu'),\n",
    "  tf.keras.layers.Dense(9, activation='softmax')\n",
    "])\n",
    "\n",
    "#optimizer=tf.keras.optimizers.SGD(learning_rate=0.25)\n",
    "\n",
    "model.compile(optimizer='adam',\n",
    "              loss='sparse_categorical_crossentropy',\n",
    "              metrics=['accuracy'])\n",
    "\n",
    "model.summary()\n"
   ]
  },
  {
   "cell_type": "code",
   "execution_count": 48,
   "metadata": {
    "tags": []
   },
   "outputs": [
    {
     "output_type": "stream",
     "name": "stdout",
     "text": "Epoch 1/100\n 2/72 [..............................] - ETA: 10s - loss: 29.5312 - accuracy: 0.1016WARNING:tensorflow:Method (on_train_batch_end) is slow compared to the batch update (0.140048). Check your callbacks.\nWARNING:tensorflow:Method (on_train_batch_end) is slow compared to the batch update (0.140048). Check your callbacks.\n72/72 [==============================] - 1s 12ms/step - loss: 5.1154 - accuracy: 0.3674 - val_loss: 1.2103 - val_accuracy: 0.6476\nEpoch 2/100\n72/72 [==============================] - 1s 7ms/step - loss: 1.6888 - accuracy: 0.5195 - val_loss: 1.0252 - val_accuracy: 0.6929\nEpoch 3/100\n72/72 [==============================] - 0s 4ms/step - loss: 1.3418 - accuracy: 0.5871 - val_loss: 0.9355 - val_accuracy: 0.7185\nEpoch 4/100\n72/72 [==============================] - 0s 4ms/step - loss: 1.1677 - accuracy: 0.6317 - val_loss: 0.9104 - val_accuracy: 0.7205\nEpoch 5/100\n72/72 [==============================] - 0s 4ms/step - loss: 1.0477 - accuracy: 0.6543 - val_loss: 0.8743 - val_accuracy: 0.7244\nEpoch 6/100\n72/72 [==============================] - 0s 4ms/step - loss: 0.9892 - accuracy: 0.6742 - val_loss: 0.8808 - val_accuracy: 0.7362\nEpoch 7/100\n72/72 [==============================] - 0s 4ms/step - loss: 0.9567 - accuracy: 0.6893 - val_loss: 0.8837 - val_accuracy: 0.7126\nEpoch 8/100\n72/72 [==============================] - 0s 4ms/step - loss: 0.9274 - accuracy: 0.6912 - val_loss: 0.8268 - val_accuracy: 0.7500\nEpoch 9/100\n72/72 [==============================] - 0s 4ms/step - loss: 0.8922 - accuracy: 0.7092 - val_loss: 0.8446 - val_accuracy: 0.7224\nEpoch 10/100\n72/72 [==============================] - 0s 5ms/step - loss: 0.8760 - accuracy: 0.7059 - val_loss: 0.8368 - val_accuracy: 0.7500\nEpoch 11/100\n72/72 [==============================] - 0s 4ms/step - loss: 0.8743 - accuracy: 0.7149 - val_loss: 0.8491 - val_accuracy: 0.7224\nEpoch 12/100\n72/72 [==============================] - 0s 4ms/step - loss: 0.8519 - accuracy: 0.7208 - val_loss: 0.7927 - val_accuracy: 0.7480\nEpoch 13/100\n72/72 [==============================] - 0s 5ms/step - loss: 0.8482 - accuracy: 0.7263 - val_loss: 0.8185 - val_accuracy: 0.7461\nEpoch 14/100\n72/72 [==============================] - 0s 4ms/step - loss: 0.8304 - accuracy: 0.7304 - val_loss: 0.8001 - val_accuracy: 0.7520\nEpoch 15/100\n72/72 [==============================] - 0s 4ms/step - loss: 0.8384 - accuracy: 0.7271 - val_loss: 0.7998 - val_accuracy: 0.7520\nEpoch 16/100\n72/72 [==============================] - 0s 4ms/step - loss: 0.8232 - accuracy: 0.7243 - val_loss: 0.7928 - val_accuracy: 0.7657\nEpoch 17/100\n72/72 [==============================] - 0s 4ms/step - loss: 0.8141 - accuracy: 0.7403 - val_loss: 0.7803 - val_accuracy: 0.7697\nEpoch 18/100\n72/72 [==============================] - 0s 4ms/step - loss: 0.8172 - accuracy: 0.7374 - val_loss: 0.7961 - val_accuracy: 0.7559\nEpoch 19/100\n72/72 [==============================] - 0s 4ms/step - loss: 0.8083 - accuracy: 0.7398 - val_loss: 0.7811 - val_accuracy: 0.7697\nEpoch 20/100\n72/72 [==============================] - 0s 4ms/step - loss: 0.8045 - accuracy: 0.7352 - val_loss: 0.7737 - val_accuracy: 0.7736\nEpoch 21/100\n72/72 [==============================] - 0s 4ms/step - loss: 0.8079 - accuracy: 0.7361 - val_loss: 0.7713 - val_accuracy: 0.7657\nEpoch 22/100\n72/72 [==============================] - 0s 4ms/step - loss: 0.7937 - accuracy: 0.7499 - val_loss: 0.7708 - val_accuracy: 0.7559\nEpoch 23/100\n72/72 [==============================] - 0s 4ms/step - loss: 0.7929 - accuracy: 0.7414 - val_loss: 0.7632 - val_accuracy: 0.7756\nEpoch 24/100\n72/72 [==============================] - 0s 4ms/step - loss: 0.7898 - accuracy: 0.7468 - val_loss: 0.7715 - val_accuracy: 0.7657\nEpoch 25/100\n72/72 [==============================] - 0s 4ms/step - loss: 0.7890 - accuracy: 0.7433 - val_loss: 0.7799 - val_accuracy: 0.7618\nEpoch 26/100\n72/72 [==============================] - 0s 4ms/step - loss: 0.7751 - accuracy: 0.7453 - val_loss: 0.7692 - val_accuracy: 0.7638\nEpoch 27/100\n72/72 [==============================] - 0s 4ms/step - loss: 0.7743 - accuracy: 0.7453 - val_loss: 0.7642 - val_accuracy: 0.7776\nEpoch 28/100\n72/72 [==============================] - 0s 4ms/step - loss: 0.7644 - accuracy: 0.7602 - val_loss: 0.7745 - val_accuracy: 0.7717\nEpoch 29/100\n72/72 [==============================] - 1s 8ms/step - loss: 0.7712 - accuracy: 0.7591 - val_loss: 0.7708 - val_accuracy: 0.7579\nEpoch 30/100\n72/72 [==============================] - 0s 4ms/step - loss: 0.7682 - accuracy: 0.7549 - val_loss: 0.7769 - val_accuracy: 0.7638\nEpoch 31/100\n72/72 [==============================] - 0s 4ms/step - loss: 0.7621 - accuracy: 0.7516 - val_loss: 0.7664 - val_accuracy: 0.7677\nEpoch 32/100\n72/72 [==============================] - 0s 4ms/step - loss: 0.7719 - accuracy: 0.7527 - val_loss: 0.7726 - val_accuracy: 0.7598\nEpoch 33/100\n72/72 [==============================] - 0s 4ms/step - loss: 0.7548 - accuracy: 0.7569 - val_loss: 0.7608 - val_accuracy: 0.7559\nEpoch 34/100\n72/72 [==============================] - 0s 4ms/step - loss: 0.7515 - accuracy: 0.7626 - val_loss: 0.7440 - val_accuracy: 0.7736\nEpoch 35/100\n72/72 [==============================] - 0s 4ms/step - loss: 0.7542 - accuracy: 0.7575 - val_loss: 0.7691 - val_accuracy: 0.7677\nEpoch 36/100\n72/72 [==============================] - 0s 4ms/step - loss: 0.7603 - accuracy: 0.7551 - val_loss: 0.7513 - val_accuracy: 0.7736\nEpoch 37/100\n72/72 [==============================] - 0s 4ms/step - loss: 0.7373 - accuracy: 0.7628 - val_loss: 0.7775 - val_accuracy: 0.7657\nEpoch 38/100\n72/72 [==============================] - 0s 4ms/step - loss: 0.7417 - accuracy: 0.7654 - val_loss: 0.7686 - val_accuracy: 0.7795\nEpoch 39/100\n72/72 [==============================] - 0s 4ms/step - loss: 0.7369 - accuracy: 0.7676 - val_loss: 0.7761 - val_accuracy: 0.7539\nEpoch 40/100\n72/72 [==============================] - 0s 4ms/step - loss: 0.7439 - accuracy: 0.7617 - val_loss: 0.7519 - val_accuracy: 0.7618\nEpoch 41/100\n72/72 [==============================] - 0s 4ms/step - loss: 0.7396 - accuracy: 0.7595 - val_loss: 0.7642 - val_accuracy: 0.7717\nEpoch 42/100\n72/72 [==============================] - 0s 3ms/step - loss: 0.7385 - accuracy: 0.7615 - val_loss: 0.7872 - val_accuracy: 0.7520\nEpoch 43/100\n72/72 [==============================] - 0s 4ms/step - loss: 0.7308 - accuracy: 0.7670 - val_loss: 0.7534 - val_accuracy: 0.7736\nEpoch 44/100\n72/72 [==============================] - 0s 3ms/step - loss: 0.7381 - accuracy: 0.7606 - val_loss: 0.7384 - val_accuracy: 0.7736\nEpoch 45/100\n72/72 [==============================] - 0s 4ms/step - loss: 0.7365 - accuracy: 0.7681 - val_loss: 0.7583 - val_accuracy: 0.7657\nEpoch 46/100\n72/72 [==============================] - 0s 4ms/step - loss: 0.7198 - accuracy: 0.7755 - val_loss: 0.7444 - val_accuracy: 0.7795\nEpoch 47/100\n72/72 [==============================] - 0s 4ms/step - loss: 0.7250 - accuracy: 0.7696 - val_loss: 0.7560 - val_accuracy: 0.7618\nEpoch 48/100\n72/72 [==============================] - 0s 3ms/step - loss: 0.7256 - accuracy: 0.7667 - val_loss: 0.7430 - val_accuracy: 0.7913\nEpoch 49/100\n72/72 [==============================] - 0s 3ms/step - loss: 0.7211 - accuracy: 0.7652 - val_loss: 0.7494 - val_accuracy: 0.7677\nEpoch 50/100\n72/72 [==============================] - 0s 4ms/step - loss: 0.7207 - accuracy: 0.7681 - val_loss: 0.7472 - val_accuracy: 0.7579\nEpoch 51/100\n72/72 [==============================] - 0s 4ms/step - loss: 0.7266 - accuracy: 0.7659 - val_loss: 0.7299 - val_accuracy: 0.7815\nEpoch 52/100\n72/72 [==============================] - 0s 4ms/step - loss: 0.7196 - accuracy: 0.7709 - val_loss: 0.7354 - val_accuracy: 0.7618\nEpoch 53/100\n72/72 [==============================] - 0s 4ms/step - loss: 0.7089 - accuracy: 0.7702 - val_loss: 0.7304 - val_accuracy: 0.7756\nEpoch 54/100\n72/72 [==============================] - 0s 3ms/step - loss: 0.7154 - accuracy: 0.7650 - val_loss: 0.7381 - val_accuracy: 0.7795\nEpoch 55/100\n72/72 [==============================] - 0s 4ms/step - loss: 0.7134 - accuracy: 0.7718 - val_loss: 0.7333 - val_accuracy: 0.8051\nEpoch 56/100\n72/72 [==============================] - 0s 3ms/step - loss: 0.7055 - accuracy: 0.7663 - val_loss: 0.7413 - val_accuracy: 0.7598\nEpoch 57/100\n72/72 [==============================] - 0s 4ms/step - loss: 0.6944 - accuracy: 0.7775 - val_loss: 0.7298 - val_accuracy: 0.7756\nEpoch 58/100\n72/72 [==============================] - 0s 6ms/step - loss: 0.7038 - accuracy: 0.7652 - val_loss: 0.7282 - val_accuracy: 0.7677\nEpoch 59/100\n72/72 [==============================] - 0s 5ms/step - loss: 0.6952 - accuracy: 0.7755 - val_loss: 0.7549 - val_accuracy: 0.7815\nEpoch 60/100\n72/72 [==============================] - 0s 4ms/step - loss: 0.7005 - accuracy: 0.7733 - val_loss: 0.7325 - val_accuracy: 0.7815\nEpoch 61/100\n72/72 [==============================] - 0s 5ms/step - loss: 0.7107 - accuracy: 0.7663 - val_loss: 0.7471 - val_accuracy: 0.7618\nEpoch 62/100\n72/72 [==============================] - 0s 5ms/step - loss: 0.7075 - accuracy: 0.7691 - val_loss: 0.7655 - val_accuracy: 0.7441\nEpoch 63/100\n72/72 [==============================] - 0s 4ms/step - loss: 0.6885 - accuracy: 0.7805 - val_loss: 0.7219 - val_accuracy: 0.7657\nEpoch 64/100\n72/72 [==============================] - 0s 4ms/step - loss: 0.6895 - accuracy: 0.7744 - val_loss: 0.7276 - val_accuracy: 0.7835\nEpoch 65/100\n72/72 [==============================] - 0s 4ms/step - loss: 0.6871 - accuracy: 0.7748 - val_loss: 0.7448 - val_accuracy: 0.7441\nEpoch 66/100\n72/72 [==============================] - 0s 4ms/step - loss: 0.6941 - accuracy: 0.7707 - val_loss: 0.7162 - val_accuracy: 0.8031\nEpoch 67/100\n72/72 [==============================] - 0s 4ms/step - loss: 0.6872 - accuracy: 0.7790 - val_loss: 0.7201 - val_accuracy: 0.7756\nEpoch 68/100\n72/72 [==============================] - 0s 5ms/step - loss: 0.6905 - accuracy: 0.7744 - val_loss: 0.7470 - val_accuracy: 0.7717\nEpoch 69/100\n72/72 [==============================] - 0s 5ms/step - loss: 0.6754 - accuracy: 0.7799 - val_loss: 0.7642 - val_accuracy: 0.7559\nEpoch 70/100\n72/72 [==============================] - 0s 4ms/step - loss: 0.6880 - accuracy: 0.7770 - val_loss: 0.7199 - val_accuracy: 0.7874\nEpoch 71/100\n72/72 [==============================] - 0s 4ms/step - loss: 0.6733 - accuracy: 0.7746 - val_loss: 0.7475 - val_accuracy: 0.7717\nEpoch 72/100\n72/72 [==============================] - 0s 4ms/step - loss: 0.6827 - accuracy: 0.7700 - val_loss: 0.7190 - val_accuracy: 0.7933\nEpoch 73/100\n72/72 [==============================] - 0s 4ms/step - loss: 0.6881 - accuracy: 0.7733 - val_loss: 0.7653 - val_accuracy: 0.7461\nEpoch 74/100\n72/72 [==============================] - 0s 4ms/step - loss: 0.6907 - accuracy: 0.7720 - val_loss: 0.7124 - val_accuracy: 0.7913\nEpoch 75/100\n72/72 [==============================] - 0s 4ms/step - loss: 0.6748 - accuracy: 0.7759 - val_loss: 0.7448 - val_accuracy: 0.7677\nEpoch 76/100\n72/72 [==============================] - 0s 5ms/step - loss: 0.6972 - accuracy: 0.7726 - val_loss: 0.7185 - val_accuracy: 0.7894\nEpoch 77/100\n72/72 [==============================] - 0s 4ms/step - loss: 0.6773 - accuracy: 0.7796 - val_loss: 0.7574 - val_accuracy: 0.7579\nEpoch 78/100\n72/72 [==============================] - 0s 4ms/step - loss: 0.6817 - accuracy: 0.7744 - val_loss: 0.7225 - val_accuracy: 0.7736\nEpoch 79/100\n72/72 [==============================] - 0s 4ms/step - loss: 0.6698 - accuracy: 0.7871 - val_loss: 0.7231 - val_accuracy: 0.7657\nEpoch 80/100\n72/72 [==============================] - 0s 3ms/step - loss: 0.6733 - accuracy: 0.7779 - val_loss: 0.7127 - val_accuracy: 0.7874\nEpoch 81/100\n72/72 [==============================] - 0s 5ms/step - loss: 0.6712 - accuracy: 0.7768 - val_loss: 0.7464 - val_accuracy: 0.7677\nEpoch 82/100\n72/72 [==============================] - 0s 4ms/step - loss: 0.6717 - accuracy: 0.7792 - val_loss: 0.7488 - val_accuracy: 0.7657\nEpoch 83/100\n72/72 [==============================] - 0s 4ms/step - loss: 0.6743 - accuracy: 0.7751 - val_loss: 0.7225 - val_accuracy: 0.7854\nEpoch 84/100\n72/72 [==============================] - 0s 3ms/step - loss: 0.6754 - accuracy: 0.7823 - val_loss: 0.7283 - val_accuracy: 0.7795\nEpoch 85/100\n72/72 [==============================] - 0s 3ms/step - loss: 0.6670 - accuracy: 0.7799 - val_loss: 0.7283 - val_accuracy: 0.7776\nEpoch 86/100\n72/72 [==============================] - 0s 5ms/step - loss: 0.6587 - accuracy: 0.7873 - val_loss: 0.7439 - val_accuracy: 0.7756\nEpoch 87/100\n72/72 [==============================] - 0s 5ms/step - loss: 0.6730 - accuracy: 0.7845 - val_loss: 0.7395 - val_accuracy: 0.7815\nEpoch 88/100\n72/72 [==============================] - 0s 4ms/step - loss: 0.6790 - accuracy: 0.7779 - val_loss: 0.7253 - val_accuracy: 0.7697\nEpoch 89/100\n72/72 [==============================] - 0s 4ms/step - loss: 0.6714 - accuracy: 0.7821 - val_loss: 0.7392 - val_accuracy: 0.7756\nEpoch 90/100\n72/72 [==============================] - 0s 4ms/step - loss: 0.6709 - accuracy: 0.7788 - val_loss: 0.7594 - val_accuracy: 0.7461\nEpoch 91/100\n72/72 [==============================] - 0s 3ms/step - loss: 0.6732 - accuracy: 0.7794 - val_loss: 0.7693 - val_accuracy: 0.7539\nEpoch 92/100\n72/72 [==============================] - 0s 3ms/step - loss: 0.6748 - accuracy: 0.7744 - val_loss: 0.7472 - val_accuracy: 0.7579\nEpoch 93/100\n72/72 [==============================] - 0s 3ms/step - loss: 0.6659 - accuracy: 0.7788 - val_loss: 0.7096 - val_accuracy: 0.7835\nEpoch 94/100\n72/72 [==============================] - 0s 3ms/step - loss: 0.6640 - accuracy: 0.7748 - val_loss: 0.7092 - val_accuracy: 0.7815\nEpoch 95/100\n72/72 [==============================] - 0s 4ms/step - loss: 0.6635 - accuracy: 0.7794 - val_loss: 0.7049 - val_accuracy: 0.7874\nEpoch 96/100\n72/72 [==============================] - 0s 3ms/step - loss: 0.6710 - accuracy: 0.7845 - val_loss: 0.6942 - val_accuracy: 0.7913\nEpoch 97/100\n72/72 [==============================] - 0s 4ms/step - loss: 0.6620 - accuracy: 0.7810 - val_loss: 0.7312 - val_accuracy: 0.7579\nEpoch 98/100\n72/72 [==============================] - 0s 5ms/step - loss: 0.6604 - accuracy: 0.7860 - val_loss: 0.7689 - val_accuracy: 0.7638\nEpoch 99/100\n72/72 [==============================] - 0s 5ms/step - loss: 0.6611 - accuracy: 0.7768 - val_loss: 0.7188 - val_accuracy: 0.7756\nEpoch 100/100\n72/72 [==============================] - 0s 4ms/step - loss: 0.6596 - accuracy: 0.7829 - val_loss: 0.7457 - val_accuracy: 0.7539\n"
    },
    {
     "output_type": "execute_result",
     "data": {
      "text/plain": "<tensorflow.python.keras.callbacks.History at 0x13ad2a850>"
     },
     "metadata": {},
     "execution_count": 48
    }
   ],
   "source": [
    "model.fit(train_ds,\n",
    "          validation_data=val_ds,\n",
    "          epochs=EPOCHS,\n",
    "             callbacks=[tensorboard_callback])"
   ]
  },
  {
   "cell_type": "code",
   "execution_count": 49,
   "metadata": {
    "tags": []
   },
   "outputs": [
    {
     "output_type": "stream",
     "name": "stderr",
     "text": "UsageError: Line magic function `%tensorboard` not found.\n"
    }
   ],
   "source": [
    "%tensorboard --logdir logs/fit"
   ]
  },
  {
   "cell_type": "code",
   "execution_count": 50,
   "metadata": {
    "scrolled": true,
    "tags": []
   },
   "outputs": [
    {
     "output_type": "stream",
     "name": "stdout",
     "text": "9/9 - 0s - loss: 0.6121 - accuracy: 0.8142\n\nTest accuracy: 0.8141592741012573\n"
    }
   ],
   "source": [
    "test_loss, test_acc = model.evaluate(test_ds, verbose=2)\n",
    "print('\\nTest accuracy:', test_acc)"
   ]
  },
  {
   "cell_type": "markdown",
   "metadata": {},
   "source": [
    "### 预测"
   ]
  },
  {
   "cell_type": "code",
   "execution_count": 51,
   "metadata": {},
   "outputs": [],
   "source": [
    "probability_model = tf.keras.Sequential([model, \n",
    "                                         tf.keras.layers.Softmax()])"
   ]
  },
  {
   "cell_type": "code",
   "execution_count": 52,
   "metadata": {},
   "outputs": [],
   "source": [
    "import numpy as np\n",
    "predictions = probability_model.predict(np.array([[110,2,25]]))"
   ]
  },
  {
   "cell_type": "code",
   "execution_count": 53,
   "metadata": {},
   "outputs": [
    {
     "output_type": "execute_result",
     "data": {
      "text/plain": "array([0.09855899, 0.10118753, 0.10212535, 0.09636237, 0.09603488,\n       0.09689124, 0.09711929, 0.21332446, 0.09839591], dtype=float32)"
     },
     "metadata": {},
     "execution_count": 53
    }
   ],
   "source": [
    "predictions[0]"
   ]
  },
  {
   "cell_type": "code",
   "execution_count": 54,
   "metadata": {},
   "outputs": [
    {
     "output_type": "execute_result",
     "data": {
      "text/plain": "'red-ish'"
     },
     "metadata": {},
     "execution_count": 54
    }
   ],
   "source": [
    "get_label_name(np.argmax(predictions[0]))"
   ]
  },
  {
   "cell_type": "markdown",
   "metadata": {},
   "source": [
    "# RGB转HSV\n",
    "### rgb->hsv"
   ]
  },
  {
   "cell_type": "code",
   "execution_count": null,
   "metadata": {},
   "outputs": [],
   "source": [
    "import cv2\n",
    "# opencv\n",
    "import numpy as np\n",
    "from matplotlib import pyplot as plt"
   ]
  },
  {
   "cell_type": "code",
   "execution_count": null,
   "metadata": {},
   "outputs": [],
   "source": [
    "#创建一张黑色的图片\n",
    "img = np.zeros((28,32), np.float32)\n",
    "print(img.shape)\n",
    "img = cv2.cvtColor(img, cv2.COLOR_GRAY2BGR)\n",
    "print(img.shape)\n",
    "plt.imshow(img)\n",
    "plt.show()"
   ]
  },
  {
   "cell_type": "code",
   "execution_count": null,
   "metadata": {},
   "outputs": [],
   "source": [
    "rgb_to_hsv([110,2,25])"
   ]
  },
  {
   "cell_type": "code",
   "execution_count": null,
   "metadata": {},
   "outputs": [],
   "source": [
    "'''\n",
    "HSV颜色空间规定:H范围0~360,S范围0~1,V范围0~1 \n",
    "\n",
    "PS中的HSV范围，H是0-360，S是0-1，V（B）是0-1\n",
    "\n",
    "opencv中的HSV范围，H是0-180，S是0-255，V是0-255\n",
    "\n",
    "'''\n",
    "\n",
    "# h:0-360 , s:0-255, v:0-255\n",
    "# r:0-255, g:0-255, b:0-255\n",
    "def rgb_to_hsv(rgb=[]):\n",
    "    img=np.array([[rgb]],np.uint8)\n",
    "    #print(img)\n",
    "    #print(img)\n",
    "    plt.imshow(img)\n",
    "    plt.show()\n",
    "    img_hsv = cv2.cvtColor(img, cv2.COLOR_RGB2HSV)\n",
    "    img_hsv[0][0]*=2\n",
    "    #print(img_hsv)\n",
    "    return img_hsv\n",
    "\n",
    "\n",
    "def hsv_to_rgb(hsv=[]):\n",
    "    hsv[0]/=2\n",
    "    img_hsv=np.array([[hsv]],np.uint8)\n",
    "    img_rgb = cv2.cvtColor(img_hsv, cv2.COLOR_HSV2RGB)\n",
    "    plt.imshow(img_rgb)\n",
    "    plt.show()\n",
    "    return img_rgb\n",
    "\n",
    "#rgb_to_hsv([250,0,0])\n",
    "#hsv_to_rgb([360,255,255])\n",
    "\n",
    "# 从h=0 开始旋转，每18°取一组颜色，作为配色方案\n",
    "for i in range(0,360,18):\n",
    "    #print(i)\n",
    "    a=hsv_to_rgb([i,255,255])\n",
    "    b=hsv_to_rgb([i+18,255,255])\n",
    "    print(a,b)"
   ]
  },
  {
   "cell_type": "code",
   "execution_count": null,
   "metadata": {},
   "outputs": [],
   "source": [
    "#opencv读取图片，默认是BGR\n",
    "img=cv2.imread('img/test.jpg',cv2.IMREAD_COLOR)\n",
    "img=cv2.cvtColor(img, cv2.COLOR_BGR2RGB)\n",
    "plt.imshow(img)\n",
    "plt.show()"
   ]
  }
 ],
 "metadata": {
  "kernelspec": {
   "display_name": "Python 3",
   "language": "python",
   "name": "python3"
  },
  "language_info": {
   "codemirror_mode": {
    "name": "ipython",
    "version": 3
   },
   "file_extension": ".py",
   "mimetype": "text/x-python",
   "name": "python",
   "nbconvert_exporter": "python",
   "pygments_lexer": "ipython3",
   "version": "3.7.6"
  }
 },
 "nbformat": 4,
 "nbformat_minor": 4
}